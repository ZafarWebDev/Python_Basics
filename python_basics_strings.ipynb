{
  "nbformat": 4,
  "nbformat_minor": 0,
  "metadata": {
    "colab": {
      "provenance": [],
      "authorship_tag": "ABX9TyOBL9685ryvyEHnkpNkpIFm"
    },
    "kernelspec": {
      "name": "python3",
      "display_name": "Python 3"
    },
    "language_info": {
      "name": "python"
    }
  },
  "cells": [
    {
      "cell_type": "markdown",
      "source": [
        "# **Python Basics (Strings)**\n"
      ],
      "metadata": {
        "id": "DgnczFmogc-g"
      }
    },
    {
      "cell_type": "markdown",
      "source": [
        "### Strings in python"
      ],
      "metadata": {
        "id": "FIJ9N4SGg_kN"
      }
    },
    {
      "cell_type": "code",
      "source": [
        "print(\"Hope to Skills\")"
      ],
      "metadata": {
        "colab": {
          "base_uri": "https://localhost:8080/"
        },
        "id": "5b8DXavd-ACJ",
        "outputId": "f1b4196a-b1af-40e2-fd47-40be77c91514"
      },
      "execution_count": null,
      "outputs": [
        {
          "output_type": "stream",
          "name": "stdout",
          "text": [
            "Hope to Skills\n"
          ]
        }
      ]
    },
    {
      "cell_type": "code",
      "source": [
        "# storing string in a variable\n",
        "first_name = \"Muhammad\"\n",
        "second_name = \"Zafar\"\n",
        "\n",
        "# String concatenation\n",
        "full_name = first_name + second_name\n",
        "\n",
        "# printing the output\n",
        "print(\"1.\",full_name)\n",
        "\n",
        "# so here we a need a space between the strings\n",
        "full_name = first_name + \" \" + second_name\n",
        "print(\"2.\",full_name)"
      ],
      "metadata": {
        "id": "MsIJrstN-AO5",
        "colab": {
          "base_uri": "https://localhost:8080/"
        },
        "outputId": "e7884880-7388-4f84-cf25-c64980741a72"
      },
      "execution_count": null,
      "outputs": [
        {
          "output_type": "stream",
          "name": "stdout",
          "text": [
            "1. MuhammadZafar\n",
            "2. Muhammad Zafar\n"
          ]
        }
      ]
    },
    {
      "cell_type": "code",
      "source": [
        "# we can create a multiline string using triple quotes\n",
        "multiline_string = \"\"\"Hope\n",
        "to\n",
        "Skils\"\"\"\n",
        "print(multiline_string)"
      ],
      "metadata": {
        "id": "A7nnfVoG-ARU",
        "colab": {
          "base_uri": "https://localhost:8080/"
        },
        "outputId": "b8921fac-a4b5-4fb0-8180-611defef1912"
      },
      "execution_count": null,
      "outputs": [
        {
          "output_type": "stream",
          "name": "stdout",
          "text": [
            "Hope \n",
            "to \n",
            "Skils\n"
          ]
        }
      ]
    },
    {
      "cell_type": "code",
      "source": [
        "# python has built in functions for manipulating strings\n",
        "# like for converting a string into upper and lower case we use below functions\n",
        "\n",
        "print(\"1) Upper Case:\",multiline_string.upper())\n",
        "print(\"\\n2) Lower Case:\",multiline_string.lower())  # here \"\\n\" is used for new line creation"
      ],
      "metadata": {
        "colab": {
          "base_uri": "https://localhost:8080/"
        },
        "id": "Gsa5sT8ihTct",
        "outputId": "8255e24e-e986-4d14-8f7b-ab2842f1dfcb"
      },
      "execution_count": null,
      "outputs": [
        {
          "output_type": "stream",
          "name": "stdout",
          "text": [
            "1) Upper Case: HOPE \n",
            "TO \n",
            "SKILS\n",
            "\n",
            "2) Lower Case: hope \n",
            "to \n",
            "skils\n"
          ]
        }
      ]
    },
    {
      "cell_type": "code",
      "source": [
        "# removing white spaces from a string\n",
        "greet_with_space = \" Hello, World! \"\n",
        "cleaned_greet = \" Hello, World! \"\n",
        "\n",
        "# printing the both strings\n",
        "print(greet_with_space)\n",
        "print(cleaned_greet.strip())   # strip function removes white space from the start and end of it"
      ],
      "metadata": {
        "colab": {
          "base_uri": "https://localhost:8080/"
        },
        "id": "G01t7KMPhTfn",
        "outputId": "3159c606-9252-4f42-9155-b7ada5de1656"
      },
      "execution_count": null,
      "outputs": [
        {
          "output_type": "stream",
          "name": "stdout",
          "text": [
            " Hello, World! \n",
            "Hello, World!\n"
          ]
        }
      ]
    },
    {
      "cell_type": "code",
      "source": [
        "# Replace functions\n",
        "# replacing \"hello\" with \"hi\" using replace function\n",
        "print(greet_with_space)\n",
        "print(greet_with_space.replace(\"Hello\",\"Hi\"))"
      ],
      "metadata": {
        "colab": {
          "base_uri": "https://localhost:8080/"
        },
        "id": "l7JvTIDFhTh_",
        "outputId": "a6ec3f95-8b27-408c-e734-b06acb6019a0"
      },
      "execution_count": null,
      "outputs": [
        {
          "output_type": "stream",
          "name": "stdout",
          "text": [
            " Hello, World! \n",
            " Hi, World! \n"
          ]
        }
      ]
    },
    {
      "cell_type": "code",
      "source": [
        "# Split Method\n",
        "# it returns a list of strings after breaking the given string by the specified separator\n",
        "intro = \"My name is Muhammad Zafar\"\n",
        "\n",
        "# splitting the intro with \"space\" seperator\n",
        "print(intro.split(\" \"))"
      ],
      "metadata": {
        "colab": {
          "base_uri": "https://localhost:8080/"
        },
        "id": "ZxRivuCchTkb",
        "outputId": "09f8b63f-2e4d-40a6-82d0-eaaba033a09e"
      },
      "execution_count": null,
      "outputs": [
        {
          "output_type": "stream",
          "name": "stdout",
          "text": [
            "['My', 'name', 'is', 'Muhammad', 'Zafar']\n"
          ]
        }
      ]
    },
    {
      "cell_type": "code",
      "source": [
        "# second example of split method\n",
        "phrase = \"A man, a plan, a canal, Panama\"\n",
        "\n",
        "# splitting the string with \",\" seperator\n",
        "print(phrase.split(\",\"))"
      ],
      "metadata": {
        "colab": {
          "base_uri": "https://localhost:8080/"
        },
        "id": "bUJn9w35hTmi",
        "outputId": "c1085fd6-c891-4e0b-cacb-9f6eb10c92ed"
      },
      "execution_count": null,
      "outputs": [
        {
          "output_type": "stream",
          "name": "stdout",
          "text": [
            "['A man', ' a plan', ' a canal', ' Panama']\n"
          ]
        }
      ]
    },
    {
      "cell_type": "code",
      "source": [
        "# it will show all the methods of a string\n",
        "dir(greet)"
      ],
      "metadata": {
        "colab": {
          "base_uri": "https://localhost:8080/"
        },
        "id": "ZgxHBq8zhTo5",
        "outputId": "95fa8e19-5527-4d31-9a3d-da25e0ef81ce"
      },
      "execution_count": null,
      "outputs": [
        {
          "output_type": "execute_result",
          "data": {
            "text/plain": [
              "['__add__',\n",
              " '__class__',\n",
              " '__contains__',\n",
              " '__delattr__',\n",
              " '__dir__',\n",
              " '__doc__',\n",
              " '__eq__',\n",
              " '__format__',\n",
              " '__ge__',\n",
              " '__getattribute__',\n",
              " '__getitem__',\n",
              " '__getnewargs__',\n",
              " '__getstate__',\n",
              " '__gt__',\n",
              " '__hash__',\n",
              " '__init__',\n",
              " '__init_subclass__',\n",
              " '__iter__',\n",
              " '__le__',\n",
              " '__len__',\n",
              " '__lt__',\n",
              " '__mod__',\n",
              " '__mul__',\n",
              " '__ne__',\n",
              " '__new__',\n",
              " '__reduce__',\n",
              " '__reduce_ex__',\n",
              " '__repr__',\n",
              " '__rmod__',\n",
              " '__rmul__',\n",
              " '__setattr__',\n",
              " '__sizeof__',\n",
              " '__str__',\n",
              " '__subclasshook__',\n",
              " 'capitalize',\n",
              " 'casefold',\n",
              " 'center',\n",
              " 'count',\n",
              " 'encode',\n",
              " 'endswith',\n",
              " 'expandtabs',\n",
              " 'find',\n",
              " 'format',\n",
              " 'format_map',\n",
              " 'index',\n",
              " 'isalnum',\n",
              " 'isalpha',\n",
              " 'isascii',\n",
              " 'isdecimal',\n",
              " 'isdigit',\n",
              " 'isidentifier',\n",
              " 'islower',\n",
              " 'isnumeric',\n",
              " 'isprintable',\n",
              " 'isspace',\n",
              " 'istitle',\n",
              " 'isupper',\n",
              " 'join',\n",
              " 'ljust',\n",
              " 'lower',\n",
              " 'lstrip',\n",
              " 'maketrans',\n",
              " 'partition',\n",
              " 'removeprefix',\n",
              " 'removesuffix',\n",
              " 'replace',\n",
              " 'rfind',\n",
              " 'rindex',\n",
              " 'rjust',\n",
              " 'rpartition',\n",
              " 'rsplit',\n",
              " 'rstrip',\n",
              " 'split',\n",
              " 'splitlines',\n",
              " 'startswith',\n",
              " 'strip',\n",
              " 'swapcase',\n",
              " 'title',\n",
              " 'translate',\n",
              " 'upper',\n",
              " 'zfill']"
            ]
          },
          "metadata": {},
          "execution_count": 21
        }
      ]
    },
    {
      "cell_type": "code",
      "source": [
        "# storing in a list\n",
        "string_methods = [ 'capitalize',\n",
        " 'casefold',\n",
        " 'center',\n",
        " 'count',\n",
        " 'encode',\n",
        " 'endswith',\n",
        " 'expandtabs',\n",
        " 'find',\n",
        " 'format',\n",
        " 'format_map',\n",
        " 'index',\n",
        " 'isalnum',\n",
        " 'isalpha',\n",
        " 'isascii',\n",
        " 'isdecimal',\n",
        " 'isdigit',\n",
        " 'isidentifier',\n",
        " 'islower',\n",
        " 'isnumeric',\n",
        " 'isprintable',\n",
        " 'isspace',\n",
        " 'istitle',\n",
        " 'isupper',\n",
        " 'join',\n",
        " 'ljust',\n",
        " 'lower',\n",
        " 'lstrip',\n",
        " 'maketrans',\n",
        " 'partition',\n",
        " 'removeprefix',\n",
        " 'removesuffix',\n",
        " 'replace',\n",
        " 'rfind',\n",
        " 'rindex',\n",
        " 'rjust',\n",
        " 'rpartition',\n",
        " 'rsplit',\n",
        " 'rstrip',\n",
        " 'split',\n",
        " 'splitlines',\n",
        " 'startswith',\n",
        " 'strip',\n",
        " 'swapcase',\n",
        " 'title',\n",
        " 'translate',\n",
        " 'upper',\n",
        " 'zfill']"
      ],
      "metadata": {
        "id": "nFb_s__dhTsi"
      },
      "execution_count": null,
      "outputs": []
    },
    {
      "cell_type": "code",
      "source": [
        "print(string_methods)"
      ],
      "metadata": {
        "id": "11UsnfkU-AUc",
        "colab": {
          "base_uri": "https://localhost:8080/"
        },
        "outputId": "42ab7b5a-cf0c-44fc-f840-ac408c8aa4f5"
      },
      "execution_count": null,
      "outputs": [
        {
          "output_type": "stream",
          "name": "stdout",
          "text": [
            "['capitalize', 'casefold', 'center', 'count', 'encode', 'endswith', 'expandtabs', 'find', 'format', 'format_map', 'index', 'isalnum', 'isalpha', 'isascii', 'isdecimal', 'isdigit', 'isidentifier', 'islower', 'isnumeric', 'isprintable', 'isspace', 'istitle', 'isupper', 'join', 'ljust', 'lower', 'lstrip', 'maketrans', 'partition', 'removeprefix', 'removesuffix', 'replace', 'rfind', 'rindex', 'rjust', 'rpartition', 'rsplit', 'rstrip', 'split', 'splitlines', 'startswith', 'strip', 'swapcase', 'title', 'translate', 'upper', 'zfill']\n"
          ]
        }
      ]
    },
    {
      "cell_type": "code",
      "source": [
        "# capitalize method\n",
        "# it capitalizes the first letter of the string\n",
        "# for example\n",
        "name = \"muhammad zafar\"\n",
        "print(name)\n",
        "print(name.capitalize())   # it capitalizes just first letter of the string"
      ],
      "metadata": {
        "id": "5T6t4JRT-AWv",
        "colab": {
          "base_uri": "https://localhost:8080/"
        },
        "outputId": "dba361fa-9c95-4d1f-d6da-54236c05019b"
      },
      "execution_count": null,
      "outputs": [
        {
          "output_type": "stream",
          "name": "stdout",
          "text": [
            "muhammad zafar\n",
            "Muhammad zafar\n"
          ]
        }
      ]
    },
    {
      "cell_type": "markdown",
      "source": [
        "### casefold()"
      ],
      "metadata": {
        "id": "A9AK5XECtKZy"
      }
    },
    {
      "cell_type": "code",
      "source": [
        "#  similar to the lower() method, but the casefold() method is stronger, more aggressive,\n",
        "text = \"Hello, And Welcome To My World!\"\n",
        "\n",
        "x = text.casefold()\n",
        "\n",
        "print(x)"
      ],
      "metadata": {
        "id": "2hPY1K-d-AZd",
        "colab": {
          "base_uri": "https://localhost:8080/"
        },
        "outputId": "5eba5070-f9f4-4086-fa99-68a082650c8b"
      },
      "execution_count": null,
      "outputs": [
        {
          "output_type": "stream",
          "name": "stdout",
          "text": [
            "hello, and welcome to my world!\n"
          ]
        }
      ]
    },
    {
      "cell_type": "markdown",
      "source": [
        "### center()"
      ],
      "metadata": {
        "id": "iwjVCIUWt1BZ"
      }
    },
    {
      "cell_type": "code",
      "source": [
        "# The center() method will center align the string, using a specified character (space is default) as the fill character.\n",
        "txt = \"banana\"\n",
        "\n",
        "x = txt.center(20, \"-\")    # here we can specify fill character\n",
        "\n",
        "print(x)\n",
        "print(\"Lenght without center method:\",len(txt))\n",
        "print(\"Lenght with center method:\",len(x))"
      ],
      "metadata": {
        "colab": {
          "base_uri": "https://localhost:8080/"
        },
        "id": "TJQOQ8bqtu_K",
        "outputId": "69a9ba33-d026-46b7-f99e-bd124a63136e"
      },
      "execution_count": null,
      "outputs": [
        {
          "output_type": "stream",
          "name": "stdout",
          "text": [
            "-------banana-------\n",
            "Lenght without center method: 6\n",
            "Lenght with center method: 20\n"
          ]
        }
      ]
    },
    {
      "cell_type": "code",
      "source": [
        "# another center methd's examle\n",
        "txt = \"Hope to Skills\"\n",
        "\n",
        "x = txt.center(20, \"=\")\n",
        "\n",
        "print(x)\n",
        "print(\"Lenght without center method:\",len(txt))\n",
        "print(\"Lenght with center method:\",len(x))"
      ],
      "metadata": {
        "colab": {
          "base_uri": "https://localhost:8080/"
        },
        "id": "1nGue4aStvPC",
        "outputId": "3906250f-f17d-4e03-88a0-694ae2d9b433"
      },
      "execution_count": null,
      "outputs": [
        {
          "output_type": "stream",
          "name": "stdout",
          "text": [
            "===Hope to Skills===\n",
            "Lenght without center method: 14\n",
            "Lenght with center method: 20\n"
          ]
        }
      ]
    },
    {
      "cell_type": "code",
      "source": [],
      "metadata": {
        "id": "a0qPcsQfzIY5"
      },
      "execution_count": null,
      "outputs": []
    },
    {
      "cell_type": "markdown",
      "source": [
        "# title()"
      ],
      "metadata": {
        "id": "2cFKK2qszkx4"
      }
    },
    {
      "cell_type": "code",
      "source": [
        "# it capitalizes the first letter of each word in a string.\n",
        "book = \"atomic habits\"\n",
        "\n",
        "print(book.title())"
      ],
      "metadata": {
        "id": "nre457xetvSW",
        "colab": {
          "base_uri": "https://localhost:8080/"
        },
        "outputId": "0c81713c-f1d4-475b-c3c7-2c7ba331b73c"
      },
      "execution_count": null,
      "outputs": [
        {
          "output_type": "stream",
          "name": "stdout",
          "text": [
            "Atomic Habits\n"
          ]
        }
      ]
    },
    {
      "cell_type": "markdown",
      "source": [
        "# swapcase()"
      ],
      "metadata": {
        "id": "vytslTdB1dl3"
      }
    },
    {
      "cell_type": "code",
      "source": [
        "# it converts upper case letters into lower case and vice versa\n",
        "name = \"MUHAMMAD ZAFAR\"\n",
        "\n",
        "print(name.swapcase())"
      ],
      "metadata": {
        "id": "GQ-iz-AttvU-",
        "colab": {
          "base_uri": "https://localhost:8080/"
        },
        "outputId": "259acce7-46a6-4154-d31d-5be08de805dc"
      },
      "execution_count": null,
      "outputs": [
        {
          "output_type": "stream",
          "name": "stdout",
          "text": [
            "muhammad zafar\n"
          ]
        }
      ]
    },
    {
      "cell_type": "markdown",
      "source": [
        "# ljust()"
      ],
      "metadata": {
        "id": "9iAp14CsXIOU"
      }
    },
    {
      "cell_type": "code",
      "source": [
        "# it returns a left justified version of the string.\n",
        "\n",
        "txt = \"banana\"\n",
        "\n",
        "x = txt.ljust(20)\n",
        "\n",
        "print(x, \"is my favorite fruit.\")"
      ],
      "metadata": {
        "id": "Pm_mK6WutvZo",
        "colab": {
          "base_uri": "https://localhost:8080/"
        },
        "outputId": "f0f8dfcd-a886-4172-c36e-1619f1876ee2"
      },
      "execution_count": null,
      "outputs": [
        {
          "output_type": "stream",
          "name": "stdout",
          "text": [
            "banana               is my favorite fruit.\n"
          ]
        }
      ]
    },
    {
      "cell_type": "markdown",
      "source": [
        "# rjust()"
      ],
      "metadata": {
        "id": "5MIvV8k0XtnU"
      }
    },
    {
      "cell_type": "code",
      "source": [
        "# it returns right justified version of the string.\n",
        "\n",
        "txt = \"banana\"\n",
        "\n",
        "x = txt.rjust(20)\n",
        "\n",
        "print(x, \"is my favorite fruit.\")"
      ],
      "metadata": {
        "colab": {
          "base_uri": "https://localhost:8080/"
        },
        "id": "h6oZr9dqXV1x",
        "outputId": "bc7c497d-42af-4bd9-877d-63ce666ce290"
      },
      "execution_count": null,
      "outputs": [
        {
          "output_type": "stream",
          "name": "stdout",
          "text": [
            "              banana is my favorite fruit.\n"
          ]
        }
      ]
    },
    {
      "cell_type": "markdown",
      "source": [
        "# zfill()"
      ],
      "metadata": {
        "id": "86SxAWt4YB6M"
      }
    },
    {
      "cell_type": "code",
      "source": [
        "# it returns a copy of the string with '0' characters padded to the left.\n",
        "\n",
        "txt = \"50\"\n",
        "\n",
        "x = txt.zfill(10)\n",
        "\n",
        "print(x)"
      ],
      "metadata": {
        "colab": {
          "base_uri": "https://localhost:8080/"
        },
        "id": "yk5TT5kAXV5M",
        "outputId": "4cf91f8a-ac85-4d46-d520-7f4232747c9a"
      },
      "execution_count": null,
      "outputs": [
        {
          "output_type": "stream",
          "name": "stdout",
          "text": [
            "0000000050\n"
          ]
        }
      ]
    },
    {
      "cell_type": "markdown",
      "source": [
        "# **Searching and Finding:**"
      ],
      "metadata": {
        "id": "n4fFzQEsYhIS"
      }
    },
    {
      "cell_type": "markdown",
      "source": [
        "# count()"
      ],
      "metadata": {
        "id": "dxi2lplAYtEp"
      }
    },
    {
      "cell_type": "code",
      "source": [
        "# it returns the number of times a specified value appears in the string.\n",
        "\n",
        "txt = \"I love apples, apple are my favorite fruit\"\n",
        "\n",
        "x = txt.count(\"apple\")\n",
        "\n",
        "print(x)"
      ],
      "metadata": {
        "colab": {
          "base_uri": "https://localhost:8080/"
        },
        "id": "4JlMyMlgXV8m",
        "outputId": "144083b7-8b1f-472b-e568-414ffc63e5cc"
      },
      "execution_count": null,
      "outputs": [
        {
          "output_type": "stream",
          "name": "stdout",
          "text": [
            "2\n"
          ]
        }
      ]
    },
    {
      "cell_type": "code",
      "source": [
        "# another example we can try\n",
        "\n",
        "txt = \"Hope to Skills\"\n",
        "\n",
        "# we can find letters\n",
        "x = txt.count(\"o\")\n",
        "\n",
        "print(x)"
      ],
      "metadata": {
        "colab": {
          "base_uri": "https://localhost:8080/"
        },
        "id": "q3m7b4wJXWAE",
        "outputId": "b0e776bf-cdf5-48c2-ce76-75e33434b517"
      },
      "execution_count": null,
      "outputs": [
        {
          "output_type": "stream",
          "name": "stdout",
          "text": [
            "2\n"
          ]
        }
      ]
    },
    {
      "cell_type": "markdown",
      "source": [
        "# find()"
      ],
      "metadata": {
        "id": "m_YibMZDZPmk"
      }
    },
    {
      "cell_type": "code",
      "source": [
        "# it returns the index of first occurrence of the substring (if found). If not found, it returns -1.\n",
        "\n",
        "txt = \"Hello, welcome to my world.\"\n",
        "\n",
        "x = txt.find(\"welcome\")\n",
        "y = txt.find(\"world\")\n",
        "z = txt.find(\"find\")\n",
        "\n",
        "print(x)\n",
        "print(y)\n",
        "print(z)"
      ],
      "metadata": {
        "colab": {
          "base_uri": "https://localhost:8080/"
        },
        "id": "eIBYnnPMXWDU",
        "outputId": "ba375d8a-6545-403f-8caf-6b5417c06fdf"
      },
      "execution_count": null,
      "outputs": [
        {
          "output_type": "stream",
          "name": "stdout",
          "text": [
            "7\n",
            "21\n",
            "-1\n"
          ]
        }
      ]
    },
    {
      "cell_type": "markdown",
      "source": [
        "# rfind()"
      ],
      "metadata": {
        "id": "LVc2dMu8aBFW"
      }
    },
    {
      "cell_type": "code",
      "source": [
        "# it returns the index of last occurrence of the substring (if found). If not found, it returns -1.\n",
        "\n",
        "txt = \"Hello, welcome to my world.\"\n",
        "\n",
        "x = txt.rfind(\"e\")\n",
        "y = txt.rfind(\"world\")\n",
        "z = txt.rfind(\"find\")\n",
        "\n",
        "print(x)\n",
        "print(y)\n",
        "print(z)"
      ],
      "metadata": {
        "colab": {
          "base_uri": "https://localhost:8080/"
        },
        "id": "XxeDqdZEXWGw",
        "outputId": "82b04121-6b9f-44ab-e9b0-b1b3fc443e3d"
      },
      "execution_count": null,
      "outputs": [
        {
          "output_type": "stream",
          "name": "stdout",
          "text": [
            "13\n",
            "21\n",
            "-1\n"
          ]
        }
      ]
    },
    {
      "cell_type": "markdown",
      "source": [
        "# index()"
      ],
      "metadata": {
        "id": "ExF-GnGHaXKr"
      }
    },
    {
      "cell_type": "code",
      "source": [
        "# it returns the index of first occurrence of the substring (if found). If not found, it raises an exception.\n",
        "\n",
        "txt = \"Hello, welcome to my world.\"\n",
        "\n",
        "x = txt.index(\"welcome\")\n",
        "y = txt.index(\"world\")\n",
        "# z = txt.index(\"find\")     # it raises an error\n",
        "\n",
        "# main difference between find() and index() is that find() returns -1 if the value is not found.\n",
        "print(x)\n",
        "print(y)\n",
        "# print(z)"
      ],
      "metadata": {
        "colab": {
          "base_uri": "https://localhost:8080/"
        },
        "id": "aybpePowXWJ_",
        "outputId": "9f330392-d9cb-43a6-f18b-1a9eb230db26"
      },
      "execution_count": null,
      "outputs": [
        {
          "output_type": "stream",
          "name": "stdout",
          "text": [
            "7\n",
            "21\n"
          ]
        }
      ]
    },
    {
      "cell_type": "markdown",
      "source": [
        "starswith()"
      ],
      "metadata": {
        "id": "EhvzUrPvQz2X"
      }
    },
    {
      "cell_type": "code",
      "source": [
        "# it returns True if the string starts with the specified value, otherwise False.\n",
        "\n",
        "txt = \"Hello, welcome to my world.\"\n",
        "\n",
        "x = txt.startswith(\"Hello\")\n",
        "y = txt.startswith(\"welcome\")\n",
        "\n",
        "print(x)\n",
        "print(y)"
      ],
      "metadata": {
        "id": "tdnRxoqHXWOh",
        "colab": {
          "base_uri": "https://localhost:8080/"
        },
        "outputId": "41c3ff8c-149f-41fc-9f40-13e85ac5a8a6"
      },
      "execution_count": null,
      "outputs": [
        {
          "output_type": "stream",
          "name": "stdout",
          "text": [
            "True\n",
            "False\n"
          ]
        }
      ]
    },
    {
      "cell_type": "markdown",
      "source": [
        "endswith()"
      ],
      "metadata": {
        "id": "e-q8b5eERK1-"
      }
    },
    {
      "cell_type": "code",
      "source": [
        "# it returns True if the string ends with the specified value, otherwise False.\n",
        "\n",
        "txt = \"Hello, welcome to my world.\"\n",
        "\n",
        "x = txt.endswith(\".\")\n",
        "y = txt.endswith(\"my world.\")\n",
        "\n",
        "print(x)\n",
        "print(y)"
      ],
      "metadata": {
        "colab": {
          "base_uri": "https://localhost:8080/"
        },
        "id": "9Zd2SLT2RNOn",
        "outputId": "cb190d27-c761-439d-fd19-d9b71d23b2a3"
      },
      "execution_count": null,
      "outputs": [
        {
          "output_type": "stream",
          "name": "stdout",
          "text": [
            "True\n",
            "True\n"
          ]
        }
      ]
    },
    {
      "cell_type": "markdown",
      "source": [
        "# **Splitting and Joining:**"
      ],
      "metadata": {
        "id": "AApSy_NVRanR"
      }
    },
    {
      "cell_type": "markdown",
      "source": [
        "# split()"
      ],
      "metadata": {
        "id": "D4KE3q9ERerF"
      }
    },
    {
      "cell_type": "code",
      "source": [
        "# it returns a list of substrings that were separated by the given separator.\n",
        "\n",
        "text = \"Hope to Skills\"\n",
        "\n",
        "text_list = text.split()  # space is a default separator\n",
        "print(text_list)"
      ],
      "metadata": {
        "colab": {
          "base_uri": "https://localhost:8080/"
        },
        "id": "8qvSrmkCRe_8",
        "outputId": "f90f79b6-da45-4086-f379-27211b1191c3"
      },
      "execution_count": null,
      "outputs": [
        {
          "output_type": "stream",
          "name": "stdout",
          "text": [
            "['Hope', 'to', 'Skills']\n"
          ]
        }
      ]
    },
    {
      "cell_type": "code",
      "source": [
        "text = \"Hope,to,Skills\"\n",
        "\n",
        "text_list = text.split(\",\")  # we can specify anything\n",
        "print(text_list)"
      ],
      "metadata": {
        "colab": {
          "base_uri": "https://localhost:8080/"
        },
        "id": "hQpK4tJ7RfDK",
        "outputId": "e7afc028-aec7-42bc-91c3-77d22d7efa3b"
      },
      "execution_count": null,
      "outputs": [
        {
          "output_type": "stream",
          "name": "stdout",
          "text": [
            "['Hope', 'to', 'Skills']\n"
          ]
        }
      ]
    },
    {
      "cell_type": "markdown",
      "source": [
        "# rsplit()"
      ],
      "metadata": {
        "id": "_0XRNVFISMS5"
      }
    },
    {
      "cell_type": "code",
      "source": [
        "# it returns a list of substrings that were separated by the given separator, starting from the end of the string.\n",
        "\n",
        "text = \"Hope to Skills\"\n",
        "\n",
        "text_list = text.rsplit()  # space is a default separator\n",
        "print(text_list)"
      ],
      "metadata": {
        "colab": {
          "base_uri": "https://localhost:8080/"
        },
        "id": "VmLe_Sr3RfGv",
        "outputId": "8bdecb0b-98b7-4d5a-e6af-f4e734599f9b"
      },
      "execution_count": null,
      "outputs": [
        {
          "output_type": "stream",
          "name": "stdout",
          "text": [
            "['Hope', 'to', 'Skills']\n"
          ]
        }
      ]
    },
    {
      "cell_type": "markdown",
      "source": [
        "# splitlines()"
      ],
      "metadata": {
        "id": "C1cGwQJWSflp"
      }
    },
    {
      "cell_type": "code",
      "source": [
        "# it returns a list of lines in the string, breaking at line boundaries.\n",
        "\n",
        "txt = \"Hope\\nto\\nSkills\"\n",
        "\n",
        "x = txt.splitlines()\n",
        "\n",
        "print(x)"
      ],
      "metadata": {
        "colab": {
          "base_uri": "https://localhost:8080/"
        },
        "id": "Vjbg31ESRfKI",
        "outputId": "df382672-b0a7-48e6-b0e3-77752c64c946"
      },
      "execution_count": null,
      "outputs": [
        {
          "output_type": "stream",
          "name": "stdout",
          "text": [
            "['Hope', 'to', 'Skills']\n"
          ]
        }
      ]
    },
    {
      "cell_type": "code",
      "source": [
        "# another simple axample of splitlines()\n",
        "\n",
        "txt = \"\"\"Hope\n",
        "to\n",
        "Skills\"\"\"\n",
        "\n",
        "x = txt.splitlines()\n",
        "\n",
        "print(x)"
      ],
      "metadata": {
        "colab": {
          "base_uri": "https://localhost:8080/"
        },
        "id": "gSUJDXRlRfNx",
        "outputId": "301ec646-8f33-4758-c820-89ba0b293ea3"
      },
      "execution_count": null,
      "outputs": [
        {
          "output_type": "stream",
          "name": "stdout",
          "text": [
            "['Hope', 'to', 'Skills']\n"
          ]
        }
      ]
    },
    {
      "cell_type": "markdown",
      "source": [
        "# join()"
      ],
      "metadata": {
        "id": "KlvstMY0S4jJ"
      }
    },
    {
      "cell_type": "code",
      "source": [
        "# it returns a string that is a concatenation of the strings in an iterable.\n",
        "\n",
        "myTuple = (\"John\", \"Peter\", \"Vicky\")\n",
        "\n",
        "x = \"-\".join(myTuple)\n",
        "\n",
        "print(x)"
      ],
      "metadata": {
        "colab": {
          "base_uri": "https://localhost:8080/"
        },
        "id": "nK1bEAj7RfRN",
        "outputId": "61e2deb8-7926-41ac-c42b-48cc710b7a3e"
      },
      "execution_count": null,
      "outputs": [
        {
          "output_type": "stream",
          "name": "stdout",
          "text": [
            "John-Peter-Vicky\n"
          ]
        }
      ]
    },
    {
      "cell_type": "code",
      "source": [
        "nums = [\"1\", \"2\", \"3\", \"4\"]\n",
        "y = \"\"\n",
        "x = y.join(nums)\n",
        "\n",
        "print(x)\n",
        "print(type(x))"
      ],
      "metadata": {
        "colab": {
          "base_uri": "https://localhost:8080/"
        },
        "id": "df8CkiY5RfXs",
        "outputId": "f23d7afe-e125-4401-a92a-bb39260320a2"
      },
      "execution_count": null,
      "outputs": [
        {
          "output_type": "stream",
          "name": "stdout",
          "text": [
            "1234\n",
            "<class 'str'>\n"
          ]
        }
      ]
    },
    {
      "cell_type": "code",
      "source": [
        "text = \"Pakistan Zindabad\"\n",
        "\n",
        "x = \"_\".join(text)\n",
        "\n",
        "print(x)\n",
        "print(type(x))"
      ],
      "metadata": {
        "colab": {
          "base_uri": "https://localhost:8080/"
        },
        "id": "Ci1UiQgSRfa9",
        "outputId": "e05738ad-c86f-4ddc-cb60-11a54dbac6bc"
      },
      "execution_count": null,
      "outputs": [
        {
          "output_type": "stream",
          "name": "stdout",
          "text": [
            "P_a_k_i_s_t_a_n_ _Z_i_n_d_a_b_a_d\n",
            "<class 'str'>\n"
          ]
        }
      ]
    },
    {
      "cell_type": "markdown",
      "source": [
        "# **Stripping:**"
      ],
      "metadata": {
        "id": "lx3rth2YXhe2"
      }
    },
    {
      "cell_type": "markdown",
      "source": [
        "# strip()"
      ],
      "metadata": {
        "id": "xGZHbloZXnIP"
      }
    },
    {
      "cell_type": "code",
      "source": [
        "# it returns a copy of the string with both leading and trailing whitespace removed.\n",
        "\n",
        "txt = \"     banana     \"\n",
        "\n",
        "x = txt.strip()\n",
        "\n",
        "print(\"of all fruits\", x, \"is my favorite\")"
      ],
      "metadata": {
        "colab": {
          "base_uri": "https://localhost:8080/"
        },
        "id": "EOMuGYX9Rfep",
        "outputId": "cde69ee1-83bc-47ff-b49a-7511e03768f3"
      },
      "execution_count": null,
      "outputs": [
        {
          "output_type": "stream",
          "name": "stdout",
          "text": [
            "of all fruits banana is my favorite\n"
          ]
        }
      ]
    },
    {
      "cell_type": "markdown",
      "source": [
        "# rstrip()"
      ],
      "metadata": {
        "id": "qN2FjVAeX4aA"
      }
    },
    {
      "cell_type": "code",
      "source": [
        "# it returns a copy of the string with trailing whitespace removed.\n",
        "\n",
        "txt = \"     banana     \"\n",
        "\n",
        "x = txt.rstrip()\n",
        "\n",
        "print(\"of all fruits\", x, \"is my favorite\")"
      ],
      "metadata": {
        "colab": {
          "base_uri": "https://localhost:8080/"
        },
        "id": "-pjGIiA8XyZ6",
        "outputId": "facb1a52-67be-4785-8a1f-b06708457f64"
      },
      "execution_count": null,
      "outputs": [
        {
          "output_type": "stream",
          "name": "stdout",
          "text": [
            "of all fruits      banana is my favorite\n"
          ]
        }
      ]
    },
    {
      "cell_type": "markdown",
      "source": [
        "# lstrip()"
      ],
      "metadata": {
        "id": "zZRG7BVPYCjw"
      }
    },
    {
      "cell_type": "code",
      "source": [
        "# it returns a copy of the string with leading whitespace removed.\n",
        "\n",
        "txt = \"     banana     \"\n",
        "\n",
        "x = txt.lstrip()\n",
        "\n",
        "print(\"of all fruits\", x, \"is my favorite\")"
      ],
      "metadata": {
        "colab": {
          "base_uri": "https://localhost:8080/"
        },
        "id": "7jQ062LXXzEa",
        "outputId": "a4385d9a-821e-411b-f37e-9e1279a559e1"
      },
      "execution_count": null,
      "outputs": [
        {
          "output_type": "stream",
          "name": "stdout",
          "text": [
            "of all fruits banana      is my favorite\n"
          ]
        }
      ]
    },
    {
      "cell_type": "markdown",
      "source": [
        "# **Replacement**:"
      ],
      "metadata": {
        "id": "yoYCUPnvYL6b"
      }
    },
    {
      "cell_type": "markdown",
      "source": [
        "# replace()"
      ],
      "metadata": {
        "id": "Uh_RfC1qYQiH"
      }
    },
    {
      "cell_type": "code",
      "source": [
        "# this method replaces a specified phrase with another specified phrase.\n",
        "\n",
        "txt = \"I like bananas\"\n",
        "\n",
        "x = txt.replace(\"bananas\", \"apples\")\n",
        "\n",
        "print(x)"
      ],
      "metadata": {
        "colab": {
          "base_uri": "https://localhost:8080/"
        },
        "id": "jAvlmDVdXzH-",
        "outputId": "bd8a480a-67fd-408a-ea77-aeb739069d05"
      },
      "execution_count": null,
      "outputs": [
        {
          "output_type": "stream",
          "name": "stdout",
          "text": [
            "I like apples\n"
          ]
        }
      ]
    },
    {
      "cell_type": "markdown",
      "source": [
        "# **Checking Content:**"
      ],
      "metadata": {
        "id": "1k3VHHVyYdMY"
      }
    },
    {
      "cell_type": "markdown",
      "source": [
        "# isalum()"
      ],
      "metadata": {
        "id": "pLrJDvTZYkTD"
      }
    },
    {
      "cell_type": "code",
      "source": [
        "# it returns True if all the characters in the string are alphanumeric, meaning alphabet letter (a-z) and numbers (0-9).\n",
        "\n",
        "txt = \"Company12\"\n",
        "\n",
        "x = txt.isalnum()\n",
        "\n",
        "print(x)"
      ],
      "metadata": {
        "colab": {
          "base_uri": "https://localhost:8080/"
        },
        "id": "lKEuT0w3XzL9",
        "outputId": "37e1cc3e-283d-41d6-91c8-319d5bdb2c21"
      },
      "execution_count": null,
      "outputs": [
        {
          "output_type": "stream",
          "name": "stdout",
          "text": [
            "True\n"
          ]
        }
      ]
    },
    {
      "cell_type": "code",
      "source": [
        "txt = \"Company 12\"     # string with space\n",
        "\n",
        "x = txt.isalnum()\n",
        "\n",
        "print(x)\n",
        "print(\"It means string with space is not alphanumeric\")"
      ],
      "metadata": {
        "colab": {
          "base_uri": "https://localhost:8080/"
        },
        "id": "mflm7GlNXzP6",
        "outputId": "fb182fb9-b36e-4a38-ecc9-326155de9e37"
      },
      "execution_count": null,
      "outputs": [
        {
          "output_type": "stream",
          "name": "stdout",
          "text": [
            "False\n",
            "It means string with space is not alphanumeric\n"
          ]
        }
      ]
    },
    {
      "cell_type": "markdown",
      "source": [
        "# isalpha()"
      ],
      "metadata": {
        "id": "T74GPDQVZGGn"
      }
    },
    {
      "cell_type": "code",
      "source": [
        "# it returns True if all the characters in the string are alphabet letters (a-z).\n",
        "#\n",
        "txt = \"CompanyX\"\n",
        "\n",
        "x = txt.isalpha()\n",
        "\n",
        "print(x)"
      ],
      "metadata": {
        "colab": {
          "base_uri": "https://localhost:8080/"
        },
        "id": "QxzkfhEeXzTc",
        "outputId": "1dcc4fce-1dab-4c92-c0da-e8eb5aa2275e"
      },
      "execution_count": null,
      "outputs": [
        {
          "output_type": "stream",
          "name": "stdout",
          "text": [
            "True\n"
          ]
        }
      ]
    },
    {
      "cell_type": "markdown",
      "source": [
        "# isdigit()"
      ],
      "metadata": {
        "id": "Z5eF0lNMZSlZ"
      }
    },
    {
      "cell_type": "code",
      "source": [
        "# it returns True if all the characters in the string are digits, otherwise False.\n",
        "\n",
        "txt = \"50800\"\n",
        "\n",
        "x = txt.isdigit()\n",
        "\n",
        "print(x)"
      ],
      "metadata": {
        "colab": {
          "base_uri": "https://localhost:8080/"
        },
        "id": "Dak9QOCtXzXH",
        "outputId": "b797025d-f184-496e-c28b-93f69025e251"
      },
      "execution_count": null,
      "outputs": [
        {
          "output_type": "stream",
          "name": "stdout",
          "text": [
            "True\n"
          ]
        }
      ]
    },
    {
      "cell_type": "markdown",
      "source": [
        "# isdecimal()"
      ],
      "metadata": {
        "id": "uwWlLCoXZb6x"
      }
    },
    {
      "cell_type": "code",
      "source": [
        "# it returns True if all the characters in the string are decimals (0-9), otherwise False.\n",
        "\n",
        "txt = \"50800\"\n",
        "\n",
        "x = txt.isdecimal()\n",
        "\n",
        "print(x)"
      ],
      "metadata": {
        "colab": {
          "base_uri": "https://localhost:8080/"
        },
        "id": "wX2M_RElXzbB",
        "outputId": "2c2a6196-9aa5-4091-a377-74a3b2073ee5"
      },
      "execution_count": null,
      "outputs": [
        {
          "output_type": "stream",
          "name": "stdout",
          "text": [
            "True\n"
          ]
        }
      ]
    },
    {
      "cell_type": "markdown",
      "source": [
        "# isnumeric()"
      ],
      "metadata": {
        "id": "eO_bWKOPZuTk"
      }
    },
    {
      "cell_type": "code",
      "source": [
        "# it returns True if all the characters in the string are numeric, otherwise False.\n",
        "\n",
        "txt = \"565543\"\n",
        "\n",
        "x = txt.isnumeric()\n",
        "\n",
        "print(x)"
      ],
      "metadata": {
        "colab": {
          "base_uri": "https://localhost:8080/"
        },
        "id": "J439ruEdXze5",
        "outputId": "2166df5d-4c76-44a3-f396-4a0442c75b5b"
      },
      "execution_count": null,
      "outputs": [
        {
          "output_type": "stream",
          "name": "stdout",
          "text": [
            "True\n"
          ]
        }
      ]
    },
    {
      "cell_type": "code",
      "source": [
        "# the difference between isdecimal(), isdigit(), isnumeric()\n",
        "\n",
        "txt = \"50800\"\n",
        "\n",
        "x = txt.isdecimal()\n",
        "y = txt.isdigit()\n",
        "z = txt.isnumeric()\n",
        "\n",
        "print(x)\n",
        "print(y)\n",
        "print(z)\n",
        "print(\"it means all are same\")\n"
      ],
      "metadata": {
        "colab": {
          "base_uri": "https://localhost:8080/"
        },
        "id": "YDq-RHtbXziU",
        "outputId": "c5d6e37b-77cd-4897-c3d7-984167f8d12f"
      },
      "execution_count": null,
      "outputs": [
        {
          "output_type": "stream",
          "name": "stdout",
          "text": [
            "True\n",
            "True\n",
            "True\n",
            "it means all are same\n"
          ]
        }
      ]
    },
    {
      "cell_type": "markdown",
      "source": [
        "# isspace()"
      ],
      "metadata": {
        "id": "oMNe3xuVaIfX"
      }
    },
    {
      "cell_type": "code",
      "source": [
        "# it returns True if there are only whitespace characters in the string and there is at least one character, False otherwise\n",
        "\n",
        "txt = \"\"\n",
        "\n",
        "x = txt.isspace()\n",
        "\n",
        "print(x)\n",
        "x = \"   \"\n",
        "y = \"s   \"\n",
        "z = \"s\"\n",
        "\n",
        "print(x.isspace())\n",
        "print(y.isspace())\n",
        "print(z.isspace())"
      ],
      "metadata": {
        "id": "bR1aaKR2Xzl-",
        "colab": {
          "base_uri": "https://localhost:8080/"
        },
        "outputId": "df9d5a7f-0e7a-4838-ee34-3b4c9fc3f62d"
      },
      "execution_count": null,
      "outputs": [
        {
          "output_type": "stream",
          "name": "stdout",
          "text": [
            "False\n",
            "True\n",
            "False\n",
            "False\n"
          ]
        }
      ]
    },
    {
      "cell_type": "markdown",
      "source": [
        "# islower()"
      ],
      "metadata": {
        "id": "U0ZhZaIxbEUf"
      }
    },
    {
      "cell_type": "code",
      "source": [
        "# it returns True if all the characters in the string are in lower case, otherwise False.\n",
        "\n",
        "txt = \"hello world!\"\n",
        "txt2 = \"hello 123\"\n",
        "txt3 = \"mynameisPeter\"   # \"P\" is uppercase letter here\n",
        "\n",
        "x = txt.islower()\n",
        "y = txt2.islower()\n",
        "z = txt3.islower()\n",
        "\n",
        "print(x)\n",
        "print(y)\n",
        "print(z)"
      ],
      "metadata": {
        "id": "PLzNg4BCXzqL",
        "colab": {
          "base_uri": "https://localhost:8080/"
        },
        "outputId": "4486a170-fba1-40ad-9425-41cb7e025193"
      },
      "execution_count": null,
      "outputs": [
        {
          "output_type": "stream",
          "name": "stdout",
          "text": [
            "True\n",
            "True\n",
            "False\n"
          ]
        }
      ]
    },
    {
      "cell_type": "markdown",
      "source": [
        "# isupper()"
      ],
      "metadata": {
        "id": "YnWT--PHb-OI"
      }
    },
    {
      "cell_type": "code",
      "source": [
        "# it returns True if all the characters in the string are in upper case, otherwise False.\n",
        "\n",
        "txt = \"THIS IS NOW!\"\n",
        "txt2 = \"Hello World!\"\n",
        "txt3 = \"mynameisPeter\"\n",
        "\n",
        "x = txt.isupper()\n",
        "y = txt2.isupper()\n",
        "z = txt3.isupper()\n",
        "\n",
        "print(x)\n",
        "print(y)\n",
        "print(z)"
      ],
      "metadata": {
        "id": "2xpQMyGwXzuE",
        "colab": {
          "base_uri": "https://localhost:8080/"
        },
        "outputId": "71177caa-24ed-492d-e414-48498f615374"
      },
      "execution_count": null,
      "outputs": [
        {
          "output_type": "stream",
          "name": "stdout",
          "text": [
            "True\n",
            "False\n",
            "False\n"
          ]
        }
      ]
    },
    {
      "cell_type": "markdown",
      "source": [
        "# istitle()"
      ],
      "metadata": {
        "id": "hjWyEb-rcPuq"
      }
    },
    {
      "cell_type": "code",
      "source": [
        "# it returns True if the string follows the rules of a title, otherwise False.\n",
        "\n",
        "txt = \"Hello, And Welcome To My World!\"\n",
        "txt2 = \"Hello\"\n",
        "txt3 = \"22 Names\"\n",
        "txt4 = \"This Is %'!?\"\n",
        "\n",
        "\n",
        "x = txt.istitle()\n",
        "y = txt2.istitle()\n",
        "z = txt3.istitle()\n",
        "a = txt4.istitle()\n",
        "\n",
        "print(x)\n",
        "print(y)\n",
        "print(z)\n",
        "print(a)"
      ],
      "metadata": {
        "id": "3PkQFVxkXzx1",
        "colab": {
          "base_uri": "https://localhost:8080/"
        },
        "outputId": "0265e7a8-cb18-408c-9728-d352ba8e75f9"
      },
      "execution_count": null,
      "outputs": [
        {
          "output_type": "stream",
          "name": "stdout",
          "text": [
            "True\n",
            "True\n",
            "True\n",
            "True\n"
          ]
        }
      ]
    },
    {
      "cell_type": "markdown",
      "source": [
        "# isprintable()"
      ],
      "metadata": {
        "id": "rGZiMsDncjz7"
      }
    },
    {
      "cell_type": "code",
      "source": [
        "# it returns True if all the characters in the string are printable, otherwise False.\n",
        "\n",
        "txt = \"Hello! Are you #1?\"\n",
        "txt2 = \"Hello\\nAre you #1?\"\n",
        "\n",
        "x = txt.isprintable()\n",
        "y = txt2.isprintable()\n",
        "\n",
        "print(x)\n",
        "print(y)\n",
        "print(\"it means '\\\\n' is not printable\")"
      ],
      "metadata": {
        "id": "ttIs9aCcXz1a",
        "colab": {
          "base_uri": "https://localhost:8080/"
        },
        "outputId": "af61c9a6-55f0-4a4a-870e-ac9e98d9d3ad"
      },
      "execution_count": null,
      "outputs": [
        {
          "output_type": "stream",
          "name": "stdout",
          "text": [
            "True\n",
            "False\n",
            "it means '\\n' is not printable\n"
          ]
        }
      ]
    },
    {
      "cell_type": "markdown",
      "source": [
        "# **Encoding and Decoding:**\n"
      ],
      "metadata": {
        "id": "DiIAlf16dBcm"
      }
    },
    {
      "cell_type": "markdown",
      "source": [
        "# encode()"
      ],
      "metadata": {
        "id": "HI7xVgGgdNBO"
      }
    },
    {
      "cell_type": "code",
      "source": [
        "# it returns an encoded version of the string.\n",
        "\n",
        "txt = \"My name is Ståle\"\n",
        "\n",
        "x = txt.encode()\n",
        "\n",
        "print(x)\n",
        "print(type(x))\n",
        "print(\"it is used for converting string to bytes\")"
      ],
      "metadata": {
        "id": "MWTJhxgJXz-8",
        "colab": {
          "base_uri": "https://localhost:8080/"
        },
        "outputId": "ad3aa187-dd12-4099-d3cb-d20f96ff81ec"
      },
      "execution_count": null,
      "outputs": [
        {
          "output_type": "stream",
          "name": "stdout",
          "text": [
            "b'My name is St\\xc3\\xa5le'\n",
            "<class 'bytes'>\n",
            "it is used for converting string to bytes\n"
          ]
        }
      ]
    },
    {
      "cell_type": "markdown",
      "source": [
        "# decode()"
      ],
      "metadata": {
        "id": "FtQ62cCzdqIv"
      }
    },
    {
      "cell_type": "code",
      "source": [
        "# it returns a decoded version of the string.\n",
        "\n",
        "txt = \"My name is Ståle\"\n",
        "\n",
        "x = txt.encode()\n",
        "\n",
        "print(x.decode(\"utf-8\"))\n",
        "print(type(x))\n",
        "print(\"it is used for converting bytes into strings\")"
      ],
      "metadata": {
        "id": "qzxDu_oBX0EO",
        "colab": {
          "base_uri": "https://localhost:8080/"
        },
        "outputId": "095b11cb-7982-4524-af6a-7ec97f1af000"
      },
      "execution_count": null,
      "outputs": [
        {
          "output_type": "stream",
          "name": "stdout",
          "text": [
            "My name is Ståle\n",
            "<class 'bytes'>\n",
            "it is used for converting bytes into strings\n"
          ]
        }
      ]
    },
    {
      "cell_type": "code",
      "source": [],
      "metadata": {
        "id": "12vTBZHJeYQl"
      },
      "execution_count": null,
      "outputs": []
    },
    {
      "cell_type": "markdown",
      "source": [
        "# **let's solidify string concepts with some real-world-inspired problems.**"
      ],
      "metadata": {
        "id": "wqRlNEgBeagt"
      }
    },
    {
      "cell_type": "markdown",
      "source": [
        "## **Problem Set 1: Basic String Manipulation**"
      ],
      "metadata": {
        "id": "_pqcvYVMehPO"
      }
    },
    {
      "cell_type": "code",
      "source": [
        "# Reverse a String\n",
        "def reverse_string(text):\n",
        "  reversed_string = text[::-1]\n",
        "  return reversed_string\n",
        "\n",
        "# Example usage\n",
        "text = \"Hello, World!\"\n",
        "reversed_text = reverse_string(text)\n",
        "print(reversed_text)\n"
      ],
      "metadata": {
        "colab": {
          "base_uri": "https://localhost:8080/"
        },
        "id": "HpyFh2FqeYbT",
        "outputId": "2f53cb6a-b29b-41c7-b97b-2600df456479"
      },
      "execution_count": null,
      "outputs": [
        {
          "output_type": "stream",
          "name": "stdout",
          "text": [
            "!dlroW ,olleH\n"
          ]
        }
      ]
    },
    {
      "cell_type": "markdown",
      "source": [
        "# Check for Palindrome:"
      ],
      "metadata": {
        "id": "nqI8AIY8gIdV"
      }
    },
    {
      "cell_type": "code",
      "source": [
        "  text = \"A Car\"\n",
        "\n",
        "  cleaned_text = \"\".join(char.lower() for char in text if char.isalnum()).replace(\" \", \"\")\n",
        "  reversed_text = cleaned_text[::-1]\n",
        "\n",
        "  if cleaned_text == reversed_text:\n",
        "    print(f\"{text}:is a palindrome\")\n",
        "  else:\n",
        "    print(f\"{text}: is not a palindrome\")"
      ],
      "metadata": {
        "colab": {
          "base_uri": "https://localhost:8080/"
        },
        "id": "Fp7nfSh_eYg5",
        "outputId": "2be57d3f-e03e-4018-d07c-9405bf4ef143"
      },
      "execution_count": 1,
      "outputs": [
        {
          "output_type": "stream",
          "name": "stdout",
          "text": [
            "A Car: is not a palindrome\n"
          ]
        }
      ]
    },
    {
      "cell_type": "markdown",
      "source": [
        "# Problem 3: Count Word Occurrences"
      ],
      "metadata": {
        "id": "fZ2vdBZyRo2_"
      }
    },
    {
      "cell_type": "markdown",
      "source": [
        "Write a program that takes a sentence as input and returns a dictionary where the keys are the words in the sentence (converted to lowercase) and the values are the number of times each word appears."
      ],
      "metadata": {
        "id": "od30MLzPRtNI"
      }
    },
    {
      "cell_type": "code",
      "source": [
        "text = \"This is a test sentence. This is.\"\n",
        "# text = \"The quick brown fox jumps over the lazy fox.\"\n",
        "\n",
        "# creating a list of words from text\n",
        "text_words = text.lower().split()\n",
        "\n",
        "# for string the words and their count\n",
        "word_count = {}\n",
        "\n",
        "# for loop for counting the words\n",
        "for word in text_words:\n",
        "  cleaned_word = word.rstrip(\".,!?\")\n",
        "  if cleaned_word in word_count:\n",
        "    word_count[cleaned_word] += 1\n",
        "  else:\n",
        "    word_count[cleaned_word] = 1\n",
        "\n",
        "print(word_count)"
      ],
      "metadata": {
        "id": "OGLsujpbeYl3",
        "colab": {
          "base_uri": "https://localhost:8080/"
        },
        "outputId": "bd64bce2-f865-4dbb-f863-ae9e71ee5315"
      },
      "execution_count": 7,
      "outputs": [
        {
          "output_type": "stream",
          "name": "stdout",
          "text": [
            "{'this': 2, 'is': 2, 'a': 1, 'test': 1, 'sentence': 1}\n"
          ]
        }
      ]
    },
    {
      "cell_type": "code",
      "source": [],
      "metadata": {
        "id": "NDBnEfsqeYq0"
      },
      "execution_count": null,
      "outputs": []
    },
    {
      "cell_type": "code",
      "source": [],
      "metadata": {
        "id": "5kkP4xWJeYyj"
      },
      "execution_count": null,
      "outputs": []
    },
    {
      "cell_type": "code",
      "source": [],
      "metadata": {
        "id": "Wcfpwa8geY2D"
      },
      "execution_count": null,
      "outputs": []
    },
    {
      "cell_type": "code",
      "source": [],
      "metadata": {
        "id": "PYFyNrCWeY5n"
      },
      "execution_count": null,
      "outputs": []
    },
    {
      "cell_type": "code",
      "source": [],
      "metadata": {
        "id": "GzN-WX06eY9R"
      },
      "execution_count": null,
      "outputs": []
    },
    {
      "cell_type": "code",
      "source": [],
      "metadata": {
        "id": "YWPpEPwVeZDj"
      },
      "execution_count": null,
      "outputs": []
    },
    {
      "cell_type": "code",
      "source": [],
      "metadata": {
        "id": "sGa2QX-neZJC"
      },
      "execution_count": null,
      "outputs": []
    },
    {
      "cell_type": "code",
      "source": [],
      "metadata": {
        "id": "5wITdRwueZMo"
      },
      "execution_count": null,
      "outputs": []
    },
    {
      "cell_type": "code",
      "source": [],
      "metadata": {
        "id": "16zC_L90X0IW"
      },
      "execution_count": null,
      "outputs": []
    }
  ]
}