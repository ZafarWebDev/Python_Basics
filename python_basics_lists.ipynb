{
  "cells": [
    {
      "cell_type": "markdown",
      "metadata": {
        "id": "view-in-github",
        "colab_type": "text"
      },
      "source": [
        "<a href=\"https://colab.research.google.com/github/ZafarWebDev/Python_Basics/blob/main/python_basics_lists.ipynb\" target=\"_parent\"><img src=\"https://colab.research.google.com/assets/colab-badge.svg\" alt=\"Open In Colab\"/></a>"
      ]
    },
    {
      "cell_type": "markdown",
      "metadata": {
        "id": "saNohVYKb0Gj"
      },
      "source": [
        "# Lists can be craeted using square brackets"
      ]
    },
    {
      "cell_type": "code",
      "execution_count": null,
      "metadata": {
        "colab": {
          "base_uri": "https://localhost:8080/"
        },
        "id": "gmhnvmtXbybj",
        "outputId": "889d96a1-a8c9-42b0-b473-d829c4761bf0"
      },
      "outputs": [
        {
          "name": "stdout",
          "output_type": "stream",
          "text": [
            "[]\n"
          ]
        }
      ],
      "source": [
        "empty_list = []\n",
        "\n",
        "# we can also create a list using below method\n",
        "another_empty_list = list()    # an empty list\n",
        "print(another_empty_list)"
      ]
    },
    {
      "cell_type": "code",
      "execution_count": null,
      "metadata": {
        "colab": {
          "base_uri": "https://localhost:8080/"
        },
        "id": "2pgLO76JbjW6",
        "outputId": "3772c5ca-bd99-4f1a-a028-449b5301423d"
      },
      "outputs": [
        {
          "name": "stdout",
          "output_type": "stream",
          "text": [
            "['apple', 'banana', 'cherry']\n"
          ]
        }
      ],
      "source": [
        "fruits = [\"apple\", \"banana\", \"cherry\"]    # three list items\n",
        "print(fruits)"
      ]
    },
    {
      "cell_type": "code",
      "execution_count": null,
      "metadata": {
        "colab": {
          "base_uri": "https://localhost:8080/"
        },
        "id": "_lp8OLZebyeW",
        "outputId": "c05214d1-01cc-4034-de2b-964681f17a69"
      },
      "outputs": [
        {
          "name": "stdout",
          "output_type": "stream",
          "text": [
            "first item: apple\n",
            "second item: banana\n",
            "third item: cherry\n",
            "====== It shows that lists are ordered =======\n"
          ]
        }
      ],
      "source": [
        "# list items are ordered, changeable and allow duplicate values. we can access list items by their index numbers\n",
        "\n",
        "print(\"first item:\",fruits[0])   # prints the first item of the list\n",
        "print(\"second item:\",fruits[1])  # prints the second item of the list\n",
        "print(\"third item:\",fruits[2])   # prints the third item of the list\n",
        "print(\"====== It shows that lists are ordered =======\")"
      ]
    },
    {
      "cell_type": "code",
      "execution_count": null,
      "metadata": {
        "colab": {
          "base_uri": "https://localhost:8080/"
        },
        "id": "Z3pq3NBTbyhC",
        "outputId": "5cdafe28-3bed-4587-be2e-f4429deb4767"
      },
      "outputs": [
        {
          "name": "stdout",
          "output_type": "stream",
          "text": [
            "['apple', 'kiwi', 'cherry']\n",
            "\n",
            "====== It shows that lists are muteable(changeable) =======\n"
          ]
        }
      ],
      "source": [
        "# we can change the list item\n",
        "fruits[1] = \"kiwi\"  # changing the second item's value\n",
        "print(fruits)\n",
        "print(\"\\n====== It shows that lists are muteable(changeable) =======\")"
      ]
    },
    {
      "cell_type": "code",
      "execution_count": null,
      "metadata": {
        "colab": {
          "base_uri": "https://localhost:8080/"
        },
        "id": "8Zz-AfUjbyji",
        "outputId": "cb5576cd-0664-4c70-9aca-5b339d3439a3"
      },
      "outputs": [
        {
          "name": "stdout",
          "output_type": "stream",
          "text": [
            "No. of items: 3\n",
            "\n",
            " === it tells the total number of items in a list ==== \n"
          ]
        }
      ],
      "source": [
        "# we can find the lenght of the list using len() function\n",
        "print(\"No. of items:\",len(fruits))\n",
        "print(\"\\n === it tells the total number of items in a list ==== \" )"
      ]
    },
    {
      "cell_type": "code",
      "execution_count": null,
      "metadata": {
        "colab": {
          "base_uri": "https://localhost:8080/"
        },
        "id": "2usP7saubymU",
        "outputId": "89211760-d63e-4184-d21f-6a9d84e6023d"
      },
      "outputs": [
        {
          "name": "stdout",
          "output_type": "stream",
          "text": [
            "['abc', 34, True, 40, 'male']\n"
          ]
        }
      ],
      "source": [
        "# We can store any type of data in a list\n",
        "list1 = [\"abc\", 34, True, 40, \"male\"]\n",
        "print(list1)"
      ]
    },
    {
      "cell_type": "code",
      "execution_count": null,
      "metadata": {
        "colab": {
          "base_uri": "https://localhost:8080/"
        },
        "id": "uQdGdTyQ2ebl",
        "outputId": "72563e71-cceb-425b-eefb-254424ed30a8"
      },
      "outputs": [
        {
          "name": "stdout",
          "output_type": "stream",
          "text": [
            "abc\n",
            "34\n",
            "male\n",
            "[True, 40]\n"
          ]
        }
      ],
      "source": [
        "# how to access the list elements\n",
        "# Note: indexing starts from 0\n",
        "print(list1[0])    # calling the first item\n",
        "print(list1[1])    # calling the second item\n",
        "print(list1[-1])   # calling the last item\n",
        "print(list1[2:4])  # calling the items from 2 to 4, its called \"slicing\""
      ]
    },
    {
      "cell_type": "code",
      "execution_count": null,
      "metadata": {
        "colab": {
          "base_uri": "https://localhost:8080/"
        },
        "id": "riEiqfSDbypG",
        "outputId": "1cc5eb57-d746-4967-bd0a-dc4ef5b45553"
      },
      "outputs": [
        {
          "name": "stdout",
          "output_type": "stream",
          "text": [
            "['abc', 34, True, 40, 'male']\n",
            "['abc', 34, True, 40, 'male']\n",
            "['abc', True, 'male']\n"
          ]
        }
      ],
      "source": [
        "# Slicing\n",
        "\n",
        "print(list1[0:5])    # accessing all the items\n",
        "print(list1[::])     # its default, accessing the items\n",
        "print(list1[0:5:2])  # (start:stop:step)   means we are skipping one element(1,3)"
      ]
    },
    {
      "cell_type": "code",
      "execution_count": null,
      "metadata": {
        "colab": {
          "base_uri": "https://localhost:8080/"
        },
        "id": "mE0GiLotbysG",
        "outputId": "540fe897-6a50-4fd6-e6f3-039c52b7f889"
      },
      "outputs": [
        {
          "name": "stdout",
          "output_type": "stream",
          "text": [
            "['apple', 'kiwi', 'cherry', 'orange']\n"
          ]
        }
      ],
      "source": [
        "# Adding new element in the list using append() method\n",
        "fruits.append(\"orange\")    # it will the element to the last of the list\n",
        "print(fruits)"
      ]
    },
    {
      "cell_type": "code",
      "execution_count": null,
      "metadata": {
        "colab": {
          "base_uri": "https://localhost:8080/"
        },
        "id": "rMo33jQ4byu4",
        "outputId": "4438ba7d-ccfa-461b-a85b-0d13d8033fb7"
      },
      "outputs": [
        {
          "name": "stdout",
          "output_type": "stream",
          "text": [
            "['apple', 'blueberry', 'cherry', 'orange']\n"
          ]
        }
      ],
      "source": [
        "# Replacing element\n",
        "fruits[1] = \"blueberry\"   # replacing second element with \"blueberry\"\n",
        "print(fruits)"
      ]
    },
    {
      "cell_type": "code",
      "execution_count": null,
      "metadata": {
        "colab": {
          "base_uri": "https://localhost:8080/"
        },
        "id": "uYKnoSG_byyg",
        "outputId": "9746c0ff-2de3-4e34-c5aa-666427c2aa85"
      },
      "outputs": [
        {
          "name": "stdout",
          "output_type": "stream",
          "text": [
            "['orange', 'cherry', 'blueberry', 'apple']\n",
            "cherry\n"
          ]
        }
      ],
      "source": [
        "# Reversing a list\n",
        "fruits.reverse()\n",
        "print(fruits)\n",
        "print(fruits[1])     # now it will print the cherry as now it is the second element of the list"
      ]
    },
    {
      "cell_type": "code",
      "execution_count": null,
      "metadata": {
        "colab": {
          "base_uri": "https://localhost:8080/"
        },
        "id": "ViDbfFxcby3e",
        "outputId": "980f6579-4f75-401a-9f67-3022dec36ba4"
      },
      "outputs": [
        {
          "name": "stdout",
          "output_type": "stream",
          "text": [
            "Initial list\n",
            "['orange', 'cherry', 'blueberry', 'apple']\n",
            "\n",
            "After removing an element\n",
            "['orange', 'blueberry', 'apple']\n"
          ]
        }
      ],
      "source": [
        "# Removing element from the list\n",
        "print(\"Initial list\")\n",
        "print(fruits)\n",
        "\n",
        "# removing the cherry from the list with remove() method\n",
        "fruits.remove(\"cherry\")\n",
        "print(\"\\nAfter removing an element\")\n",
        "print(fruits)"
      ]
    },
    {
      "cell_type": "markdown",
      "metadata": {
        "id": "r23DTzml8z7S"
      },
      "source": [
        "# **Method: insert()**"
      ]
    },
    {
      "cell_type": "code",
      "execution_count": null,
      "metadata": {
        "id": "Ud-Ca2dBby6G"
      },
      "outputs": [],
      "source": [
        "playlist = [\"Song A\", \"Song B\", \"Song C\", \"Song D\"]\n"
      ]
    },
    {
      "cell_type": "markdown",
      "metadata": {
        "id": "z3jYoz2F87i3"
      },
      "source": [
        "### A new song, \"Song X\", needs to be added before \"Song C\" in the playlist. Write a Python solution using insert() to modify the playlist correctly."
      ]
    },
    {
      "cell_type": "code",
      "execution_count": null,
      "metadata": {
        "colab": {
          "base_uri": "https://localhost:8080/"
        },
        "id": "rcsq7vF3by8i",
        "outputId": "835e3a7b-0683-4a33-a8e5-979a11fc1445"
      },
      "outputs": [
        {
          "name": "stdout",
          "output_type": "stream",
          "text": [
            "2\n",
            "['Song A', 'Song B', 'Song X', 'Song C', 'Song D']\n"
          ]
        }
      ],
      "source": [
        "# first find the index of \"Song C\"\n",
        "print(playlist.index(\"Song C\"))\n",
        "\n",
        "# lets insert \"Song X\" before \"Song C\"\n",
        "playlist.insert(2, \"Song X\")\n",
        "print(playlist)"
      ]
    },
    {
      "cell_type": "markdown",
      "metadata": {
        "id": "WRFiqPe3-g2o"
      },
      "source": [
        "# **Method: pop()**"
      ]
    },
    {
      "cell_type": "markdown",
      "metadata": {
        "id": "40PWAST--zq_"
      },
      "source": [
        "### Challenge: You're creating an order processing system for an e-commerce store. Consider this list of pending orders:"
      ]
    },
    {
      "cell_type": "code",
      "execution_count": null,
      "metadata": {
        "colab": {
          "base_uri": "https://localhost:8080/"
        },
        "id": "8fbU8HgBby_H",
        "outputId": "fb8cf3eb-8a4d-4fe3-ef0c-b1d473f425b1"
      },
      "outputs": [
        {
          "data": {
            "text/plain": [
              "['Order_101', 'Order_102', 'Order_103', 'Order_104']"
            ]
          },
          "execution_count": 15,
          "metadata": {},
          "output_type": "execute_result"
        }
      ],
      "source": [
        "orders = [\"Order_101\", \"Order_102\", \"Order_103\", \"Order_104\"]\n",
        "orders"
      ]
    },
    {
      "cell_type": "markdown",
      "metadata": {
        "id": "dUTqe6MRBRuk"
      },
      "source": [
        "### The first order (\"Order_101\") has been successfully processed and should be removed from the pending orders list."
      ]
    },
    {
      "cell_type": "code",
      "execution_count": null,
      "metadata": {
        "colab": {
          "base_uri": "https://localhost:8080/"
        },
        "id": "ZoWZQJPEbzB3",
        "outputId": "c92715ac-cd02-408b-e0a5-62d70dd629cb"
      },
      "outputs": [
        {
          "name": "stdout",
          "output_type": "stream",
          "text": [
            "Processed Orders:  Order_101\n",
            "Remaining Orders:  ['Order_102', 'Order_103', 'Order_104']\n"
          ]
        }
      ],
      "source": [
        "# removing the first element from the list\n",
        "processed_orders = orders.pop(0)\n",
        "print(\"Processed Orders: \", processed_orders)\n",
        "print(\"Remaining Orders: \", orders)"
      ]
    },
    {
      "cell_type": "markdown",
      "metadata": {
        "id": "nIa5mQA0B6LJ"
      },
      "source": [
        "# **Method: reverse()**"
      ]
    },
    {
      "cell_type": "markdown",
      "metadata": {
        "id": "NbTXexrICETH"
      },
      "source": [
        "### Challenge: You're designing a photo gallery app where users can view images in reverse order (newest first)."
      ]
    },
    {
      "cell_type": "code",
      "execution_count": null,
      "metadata": {
        "colab": {
          "base_uri": "https://localhost:8080/"
        },
        "id": "FLQNe-JpbzE6",
        "outputId": "03f4388b-dcbd-495f-ae7b-e1ba4cb0d99d"
      },
      "outputs": [
        {
          "data": {
            "text/plain": [
              "['img1.jpg', 'img2.jpg', 'img3.jpg', 'img4.jpg']"
            ]
          },
          "execution_count": 17,
          "metadata": {},
          "output_type": "execute_result"
        }
      ],
      "source": [
        "images = [\"img1.jpg\", \"img2.jpg\", \"img3.jpg\", \"img4.jpg\"]\n",
        "images"
      ]
    },
    {
      "cell_type": "markdown",
      "metadata": {
        "id": "OEqXSTZQCRMw"
      },
      "source": [
        "### Write a Python solution using reverse() to display the newest image first."
      ]
    },
    {
      "cell_type": "code",
      "execution_count": null,
      "metadata": {
        "colab": {
          "base_uri": "https://localhost:8080/"
        },
        "id": "54Sn42CrbzHj",
        "outputId": "d0e4e19d-2bfe-4e1e-d2d0-a7f7cd733738"
      },
      "outputs": [
        {
          "name": "stdout",
          "output_type": "stream",
          "text": [
            "['img4.jpg', 'img3.jpg', 'img2.jpg', 'img1.jpg']\n"
          ]
        }
      ],
      "source": [
        "# reversing the order of the list to show the last element first\n",
        "images.reverse()\n",
        "print(images)"
      ]
    },
    {
      "cell_type": "markdown",
      "metadata": {
        "id": "VPgSudHkCh_g"
      },
      "source": [
        "# **Method: sort()**"
      ]
    },
    {
      "cell_type": "markdown",
      "metadata": {
        "id": "TeF2EC9HCn8H"
      },
      "source": [
        "### **Challenge**: You're developing a student grading system. The list below contains students' exam scores:"
      ]
    },
    {
      "cell_type": "code",
      "execution_count": null,
      "metadata": {
        "colab": {
          "base_uri": "https://localhost:8080/"
        },
        "id": "s4H0rGj9bzKO",
        "outputId": "372398eb-44e3-43d1-b3ff-b4ccb0b5ec7c"
      },
      "outputs": [
        {
          "data": {
            "text/plain": [
              "[85, 92, 78, 90, 88]"
            ]
          },
          "execution_count": 19,
          "metadata": {},
          "output_type": "execute_result"
        }
      ],
      "source": [
        "scores = [85, 92, 78, 90, 88]\n",
        "scores"
      ]
    },
    {
      "cell_type": "markdown",
      "metadata": {
        "id": "otd5nZL2C2VG"
      },
      "source": [
        "### Write a Python solution using sort() to arrange the scores from highest to lowest so that the top-performing student appears first."
      ]
    },
    {
      "cell_type": "code",
      "execution_count": null,
      "metadata": {
        "colab": {
          "base_uri": "https://localhost:8080/"
        },
        "id": "aLKcZH7zCvb2",
        "outputId": "5d54be0f-2cbc-4b07-9845-30f029e59b3c"
      },
      "outputs": [
        {
          "name": "stdout",
          "output_type": "stream",
          "text": [
            "[92, 90, 88, 85, 78]\n"
          ]
        }
      ],
      "source": [
        "# sorting the list in descending order\n",
        "scores.sort(reverse=True)\n",
        "print(scores)   # now the students with the highest scores appear first in the list"
      ]
    },
    {
      "cell_type": "markdown",
      "metadata": {
        "id": "lSdxsRidDdwp"
      },
      "source": [
        "# **Method: count()**"
      ]
    },
    {
      "cell_type": "markdown",
      "metadata": {
        "id": "qTNX6638Dk2A"
      },
      "source": [
        "### **Challenge**: You're working on a survey analysis system. The list below records the favorite programming languages chosen by participants:"
      ]
    },
    {
      "cell_type": "code",
      "execution_count": null,
      "metadata": {
        "colab": {
          "base_uri": "https://localhost:8080/"
        },
        "id": "keZ48fHmCwnp",
        "outputId": "dc79e505-ffd1-4433-8dd0-3aa2b9125382"
      },
      "outputs": [
        {
          "data": {
            "text/plain": [
              "['Python', 'Java', 'Python', 'C++', 'JavaScript', 'Python', 'Java']"
            ]
          },
          "execution_count": 21,
          "metadata": {},
          "output_type": "execute_result"
        }
      ],
      "source": [
        "languages = [\"Python\", \"Java\", \"Python\", \"C++\", \"JavaScript\", \"Python\", \"Java\"]\n",
        "languages"
      ]
    },
    {
      "cell_type": "markdown",
      "metadata": {
        "id": "8bdxCtAhD1KM"
      },
      "source": [
        "### Write a Python solution using count() to find out how many people chose Python as their favorite language."
      ]
    },
    {
      "cell_type": "code",
      "execution_count": null,
      "metadata": {
        "colab": {
          "base_uri": "https://localhost:8080/"
        },
        "id": "CbzBSDGQCwq9",
        "outputId": "9cf90045-188d-4b2a-8852-17467ed00de5"
      },
      "outputs": [
        {
          "name": "stdout",
          "output_type": "stream",
          "text": [
            "Python's Count:  3\n"
          ]
        }
      ],
      "source": [
        "# finding the count of \"Python\" in the list\n",
        "print(\"Python's Count: \" ,languages.count(\"Python\"))"
      ]
    },
    {
      "cell_type": "markdown",
      "metadata": {
        "id": "-bZ8oo3oET8D"
      },
      "source": [
        "# **Method: extend()**"
      ]
    },
    {
      "cell_type": "markdown",
      "metadata": {
        "id": "yYd7ITavEd-D"
      },
      "source": [
        "### **Challenge**: You're working on a guest list manager for an event. You have an initial list of guests:"
      ]
    },
    {
      "cell_type": "code",
      "execution_count": null,
      "metadata": {
        "colab": {
          "base_uri": "https://localhost:8080/"
        },
        "id": "RFeTdTgMCwuo",
        "outputId": "6f448b5d-a1c7-45a4-da9c-0c68ea43bd97"
      },
      "outputs": [
        {
          "data": {
            "text/plain": [
              "['Ali', 'Sara', 'Ahmed']"
            ]
          },
          "execution_count": 23,
          "metadata": {},
          "output_type": "execute_result"
        }
      ],
      "source": [
        "guests = [\"Ali\", \"Sara\", \"Ahmed\"]\n",
        "guests"
      ]
    },
    {
      "cell_type": "markdown",
      "metadata": {
        "id": "nDEGU3BLEpMp"
      },
      "source": [
        "### More people RSVP’d, and you have a second list of additional guests:"
      ]
    },
    {
      "cell_type": "code",
      "execution_count": null,
      "metadata": {
        "colab": {
          "base_uri": "https://localhost:8080/"
        },
        "id": "UaMi62jxCwyb",
        "outputId": "842e2b7c-d536-461f-ba79-bb7e5f5966cd"
      },
      "outputs": [
        {
          "data": {
            "text/plain": [
              "['Zara', 'Bilal', 'Fatima']"
            ]
          },
          "execution_count": 24,
          "metadata": {},
          "output_type": "execute_result"
        }
      ],
      "source": [
        "new_guests = [\"Zara\", \"Bilal\", \"Fatima\"]\n",
        "new_guests"
      ]
    },
    {
      "cell_type": "markdown",
      "metadata": {
        "id": "jDoGLFJgEyzH"
      },
      "source": [
        "### Write a Python solution using extend() to merge both lists so that all guests are included."
      ]
    },
    {
      "cell_type": "code",
      "execution_count": null,
      "metadata": {
        "colab": {
          "base_uri": "https://localhost:8080/"
        },
        "id": "pd7B0BdPCw1s",
        "outputId": "142928c5-fbe9-475a-99a4-8dd3e0dd5a22"
      },
      "outputs": [
        {
          "name": "stdout",
          "output_type": "stream",
          "text": [
            "List With New Guests:  ['Ali', 'Sara', 'Ahmed', 'Zara', 'Bilal', 'Fatima']\n"
          ]
        }
      ],
      "source": [
        "# merging the bothe lists\n",
        "guests.extend(new_guests)   # it will append all the items with guests' list\n",
        "print(\"List With New Guests: \",guests)"
      ]
    },
    {
      "cell_type": "markdown",
      "metadata": {
        "id": "5uUeNOFYF9vC"
      },
      "source": [
        "# ***Method: index()***"
      ]
    },
    {
      "cell_type": "markdown",
      "metadata": {
        "id": "nY2NGWMhGF_o"
      },
      "source": [
        "### **Challenge**: You're developing a book management system. Below is a list of available books:"
      ]
    },
    {
      "cell_type": "code",
      "execution_count": null,
      "metadata": {
        "colab": {
          "base_uri": "https://localhost:8080/"
        },
        "id": "vGDz7hn1Cw5Y",
        "outputId": "d63e75db-c54f-4a20-99b5-1dc2e8f71904"
      },
      "outputs": [
        {
          "data": {
            "text/plain": [
              "['Python Basics',\n",
              " 'Machine Learning',\n",
              " 'Data Science',\n",
              " 'Python Basics',\n",
              " 'Deep Learning']"
            ]
          },
          "execution_count": 26,
          "metadata": {},
          "output_type": "execute_result"
        }
      ],
      "source": [
        "books = [\"Python Basics\", \"Machine Learning\", \"Data Science\", \"Python Basics\", \"Deep Learning\"]\n",
        "books"
      ]
    },
    {
      "cell_type": "markdown",
      "metadata": {
        "id": "uaCZjHXZGQm6"
      },
      "source": [
        "A user wants to know the index of the first occurrence of \"Python Basics\" in the list.\n",
        "\n",
        "### Write a Python solution using index() to find and display the correct index."
      ]
    },
    {
      "cell_type": "code",
      "execution_count": null,
      "metadata": {
        "colab": {
          "base_uri": "https://localhost:8080/"
        },
        "id": "sbTaHxGACw86",
        "outputId": "216dbd80-54dd-4a5a-9e44-51820ee3734e"
      },
      "outputs": [
        {
          "name": "stdout",
          "output_type": "stream",
          "text": [
            "Index of First Occurrence:  0\n"
          ]
        }
      ],
      "source": [
        "# finding the first occurence of \"Python Basics\"\n",
        "print(\"Index of First Occurrence: \",books.index(\"Python Basics\"))"
      ]
    },
    {
      "cell_type": "markdown",
      "metadata": {
        "id": "OhPe_o6ZaV2L"
      },
      "source": [
        "# **Challenge 1: Grocery Shopping Helper**"
      ]
    },
    {
      "cell_type": "code",
      "execution_count": null,
      "metadata": {
        "colab": {
          "base_uri": "https://localhost:8080/"
        },
        "id": "xBA1uCOaCxEX",
        "outputId": "0636823a-34d5-4a12-df5c-16a2cf367e1b"
      },
      "outputs": [
        {
          "name": "stdout",
          "output_type": "stream",
          "text": [
            "Apples has been added to the shopping list.\n",
            "Bananas has been added to the shopping list.\n",
            "Milk has been added to the shopping list.\n",
            "Bread has been added to the shopping list.\n",
            "Eggs has been added to the shopping list.\n",
            "Shopping List:\n",
            "1. Apples\n",
            "2. Bananas\n",
            "3. Milk\n",
            "4. Bread\n",
            "5. Eggs\n",
            "Bananas has been removed from the shopping list.\n",
            "Shopping List:\n",
            "1. Apples\n",
            "2. Milk\n",
            "3. Bread\n",
            "4. Eggs\n",
            "Milk is present in the shopping list.\n",
            "Shopping list has been sorted alphabetically.\n",
            "Shopping List:\n",
            "1. Apples\n",
            "2. Bread\n",
            "3. Eggs\n",
            "4. Milk\n"
          ]
        }
      ],
      "source": [
        "# initializing an empty list to store the shopping list\n",
        "shopping_list = []\n",
        "\n",
        "# function to add items to the list\n",
        "def add_item(item):\n",
        "  shopping_list.append(item)\n",
        "  print(f\"{item} has been added to the shopping list.\")\n",
        "\n",
        "# function to remove item from the list\n",
        "def remove_item(item):\n",
        "  if item in shopping_list:\n",
        "    shopping_list.remove(item)\n",
        "    print(f\"{item} has been removed from the shopping list.\")\n",
        "  else:\n",
        "    print(f\"{item} is not in the shopping list.\")\n",
        "\n",
        "# function to check if an item is present in the list\n",
        "def check_item(item):\n",
        "  if item in shopping_list:\n",
        "    print(f\"{item} is present in the shopping list.\")\n",
        "  else:\n",
        "    print(f\"{item} is not present in the shopping list.\")\n",
        "\n",
        "# function to sort the list alphabetically\n",
        "def sort_list():\n",
        "  shopping_list.sort()\n",
        "  print(\"Shopping list has been sorted alphabetically.\")\n",
        "\n",
        "# function to display the shopping list\n",
        "def display_list():\n",
        "  print(\"Shopping List:\")\n",
        "  for index, item in enumerate(shopping_list, start=1):\n",
        "    print(f\"{index}. {item}\")\n",
        "\n",
        "# adding and displaying items\n",
        "add_item(\"Apples\")\n",
        "add_item(\"Bananas\")\n",
        "add_item(\"Milk\")\n",
        "add_item(\"Bread\")\n",
        "add_item(\"Eggs\")\n",
        "display_list()\n",
        "\n",
        "# removing item from the list\n",
        "remove_item(\"Bananas\")\n",
        "display_list()\n",
        "\n",
        "# checking if an item is present in the list\n",
        "check_item(\"Milk\")\n",
        "\n",
        "# sorting the list\n",
        "sort_list()\n",
        "display_list()"
      ]
    },
    {
      "cell_type": "markdown",
      "metadata": {
        "id": "2FelmJOXrCuH"
      },
      "source": [
        "# **copy()**"
      ]
    },
    {
      "cell_type": "markdown",
      "metadata": {
        "id": "_V8vLwbprGIn"
      },
      "source": [
        "### Challenge: Make a duplicate of a list of favorite movies and modify the duplicate without changing the original."
      ]
    },
    {
      "cell_type": "code",
      "execution_count": null,
      "metadata": {
        "colab": {
          "base_uri": "https://localhost:8080/"
        },
        "id": "-3piHmKgCvlP",
        "outputId": "499e7496-72ee-4181-885c-f71e3ccb214e"
      },
      "outputs": [
        {
          "name": "stdout",
          "output_type": "stream",
          "text": [
            "Original List: ['Movie A', 'Movie B', 'Movie C', 'Movie D']\n",
            "Copy List: ['Movie A', 'Movie B', 'Movie C', 'Movie D', 'Movie E']\n"
          ]
        }
      ],
      "source": [
        "fav_movies = [\"Movie A\", \"Movie B\", \"Movie C\", \"Movie D\"]\n",
        "\n",
        "# creating a copy of the list\n",
        "fav_movies_copy = fav_movies.copy()\n",
        "fav_movies_copy.append(\"Movie E\")   # adding an item into the new list\n",
        "\n",
        "print(\"Original List:\", fav_movies)\n",
        "print(\"Copy List:\", fav_movies_copy)"
      ]
    },
    {
      "cell_type": "markdown",
      "metadata": {
        "id": "oLGq_blLrxDX"
      },
      "source": [
        "# **clear()**"
      ]
    },
    {
      "cell_type": "markdown",
      "metadata": {
        "id": "2tHptwkVr1gZ"
      },
      "source": [
        "### **Challenge: Managing a Temporary Shopping Cart**"
      ]
    },
    {
      "cell_type": "code",
      "execution_count": null,
      "metadata": {
        "colab": {
          "base_uri": "https://localhost:8080/"
        },
        "id": "8um8kTjNCvqe",
        "outputId": "ae274185-9d80-46a2-a897-188cb1b116e9"
      },
      "outputs": [
        {
          "name": "stdout",
          "output_type": "stream",
          "text": [
            "Do you want to cancel or checkout? (cancel/checkout): cancel\n",
            "Shopping cart has been cleared.\n"
          ]
        }
      ],
      "source": [
        "shopping_cart = [\"Laptop\", \"Mouse\", \"Keyboard\", \"Monitor\"]\n",
        "\n",
        "# cancel or checkout the shopping cart\n",
        "cancel_or_checkout = input(\"Do you want to cancel or checkout? (cancel/checkout): \")\n",
        "\n",
        "if cancel_or_checkout.lower() not in [\"cancel\", \"checkout\"]:\n",
        "  print(\"Invalid input. Please enter 'cancel' or 'checkout'.\")\n",
        "else:\n",
        "  # clearing the shopping cart\n",
        "  shopping_cart.clear()\n",
        "  print(\"Shopping cart has been cleared.\")\n"
      ]
    },
    {
      "cell_type": "markdown",
      "metadata": {
        "id": "h_RBK_tq0DPo"
      },
      "source": [
        "# **Challenge: Frequency Analysis**"
      ]
    },
    {
      "cell_type": "markdown",
      "metadata": {
        "id": "2cIBYkBM0J1B"
      },
      "source": [
        "### In a given text (a paragraph or a sentence), count how many times each word appears. The goal is to output a frequency dictionary where the keys are words and the values are their occurrence counts."
      ]
    },
    {
      "cell_type": "code",
      "execution_count": null,
      "metadata": {
        "colab": {
          "base_uri": "https://localhost:8080/"
        },
        "id": "vPx0uPms0B-n",
        "outputId": "e9dd568b-02b2-41c6-87c8-43364dc040ef"
      },
      "outputs": [
        {
          "name": "stdout",
          "output_type": "stream",
          "text": [
            "Enter some text here: !!!\n",
            "{'!!!': 1}\n"
          ]
        }
      ],
      "source": [
        "# taking text from the user\n",
        "text = input(\"Enter some text here: \").lower()\n",
        "\n",
        "# dictionary for storing word counts\n",
        "word_count = {}\n",
        "\n",
        "# remove punctuations\n",
        "cleaned_text = text.replace(\".\", \"\").replace(\"`\", \"\").replace(\":\",\"\")\n",
        "\n",
        "# creating a list of words\n",
        "words = cleaned_text.split()\n",
        "\n",
        "# counting the words\n",
        "for word in words:\n",
        "    if word in word_count:\n",
        "        word_count[word] += 1\n",
        "    else:\n",
        "        word_count[word] = 1\n",
        "\n",
        "# printing the word_count\n",
        "print(word_count)"
      ]
    },
    {
      "cell_type": "code",
      "execution_count": null,
      "metadata": {
        "id": "u0M5LgRM0CCV"
      },
      "outputs": [],
      "source": []
    },
    {
      "cell_type": "code",
      "execution_count": null,
      "metadata": {
        "colab": {
          "base_uri": "https://localhost:8080/"
        },
        "id": "a1eiPfSx0CEp",
        "outputId": "7fd410e9-6ce9-4a17-c07f-fd907d5f2c2d"
      },
      "outputs": [
        {
          "name": "stdout",
          "output_type": "stream",
          "text": [
            "<re.Match object; span=(0, 6), match='Python'>\n",
            "<class 're.Match'>\n"
          ]
        }
      ],
      "source": [
        "# lets practice regular expressions(re) module\n",
        "# import the module\n",
        "import re\n",
        "text = \"Python is amazing!\"\n",
        "match = re.search(r\"Python\", text)\n",
        "print(match)\n",
        "print(type(match))"
      ]
    },
    {
      "cell_type": "code",
      "execution_count": null,
      "metadata": {
        "colab": {
          "base_uri": "https://localhost:8080/"
        },
        "id": "YmegoCRQ0CHL",
        "outputId": "6b17bdac-e534-4251-9b8f-96701448a8a0"
      },
      "outputs": [
        {
          "name": "stdout",
          "output_type": "stream",
          "text": [
            "['1', '2', '3', '4', '5', '6', '7', '8', '9', '0']\n",
            "<class 'list'>\n"
          ]
        }
      ],
      "source": [
        "text = \"My phone number is 1234567890\"\n",
        "\n",
        "digits = re.findall(r\"\\d\", text)\n",
        "print(digits)\n",
        "print(type(digits))"
      ]
    },
    {
      "cell_type": "markdown",
      "metadata": {
        "id": "NDvDjclC-8c4"
      },
      "source": [
        "### **Replacing words**"
      ]
    },
    {
      "cell_type": "code",
      "execution_count": null,
      "metadata": {
        "colab": {
          "base_uri": "https://localhost:8080/"
        },
        "id": "iRugPQGC0CJU",
        "outputId": "313d3a3e-98e0-4387-bdb1-319380e98fbf"
      },
      "outputs": [
        {
          "name": "stdout",
          "output_type": "stream",
          "text": [
            "I love Python and C++. Python and C++ is the most demanding languages.\n",
            "<class 'str'>\n"
          ]
        }
      ],
      "source": [
        "text = \"I love Python and Java. Python and Java is the most demanding languages.\"\n",
        "replaced_text = re.sub(r\"Java\", \"C++\", text)\n",
        "print(replaced_text)\n",
        "print(type(replaced_text))"
      ]
    },
    {
      "cell_type": "markdown",
      "metadata": {
        "id": "Ugb097z2_vGQ"
      },
      "source": [
        "### **Splitting a string**"
      ]
    },
    {
      "cell_type": "code",
      "execution_count": null,
      "metadata": {
        "colab": {
          "base_uri": "https://localhost:8080/"
        },
        "id": "AjF03FVk0CL6",
        "outputId": "0f68bc94-ebb7-4b2a-f17a-218da6522f97"
      },
      "outputs": [
        {
          "data": {
            "text/plain": [
              "['apple', 'banana', 'grape']"
            ]
          },
          "execution_count": 18,
          "metadata": {},
          "output_type": "execute_result"
        }
      ],
      "source": [
        "text = \"apple,banana,grape\"\n",
        "\n",
        "fruits = re.split(r\",\", text)\n",
        "fruits"
      ]
    },
    {
      "cell_type": "code",
      "execution_count": null,
      "metadata": {
        "id": "aLmHPeu40COg"
      },
      "outputs": [],
      "source": []
    },
    {
      "cell_type": "code",
      "execution_count": null,
      "metadata": {
        "id": "dkit0WoN0CQ_"
      },
      "outputs": [],
      "source": [
        "email = \"example@domain.com\"\n",
        "if re.match(r\"^[A-Za-z0-9._%+-]+@[A-Za-z0-9.-]+\\.[A-Za-z]{2,}$\", email):\n",
        "    print(\"Valid email\")\n",
        "else:\n",
        "    print(\"Invalid email\")\n"
      ]
    },
    {
      "cell_type": "code",
      "execution_count": null,
      "metadata": {
        "colab": {
          "base_uri": "https://localhost:8080/"
        },
        "id": "nNngaK2K0CTL",
        "outputId": "430aff43-4328-4f09-d246-a4f3007289b3"
      },
      "outputs": [
        {
          "name": "stdout",
          "output_type": "stream",
          "text": [
            "['#Python', '#coding', '#learning']\n"
          ]
        }
      ],
      "source": [
        "text = \"I love #Python, #coding, and #learning!\"\n",
        "\n",
        "hash_tags = re.findall(r\"#\\w+\", text)\n",
        "print(hash_tags)"
      ]
    },
    {
      "cell_type": "code",
      "execution_count": null,
      "metadata": {
        "id": "G-OcyH3A0CZi"
      },
      "outputs": [],
      "source": [
        "a = \"John has scored 98 marks\""
      ]
    },
    {
      "cell_type": "code",
      "execution_count": null,
      "metadata": {
        "colab": {
          "base_uri": "https://localhost:8080/"
        },
        "id": "VieoTxxjcVCz",
        "outputId": "f09ed614-8f84-4db6-fb6c-cad99eb6bb0a"
      },
      "outputs": [
        {
          "output_type": "stream",
          "name": "stdout",
          "text": [
            "<re.Match object; span=(6, 10), match='as s'>\n",
            "re.compile('\\\\w{2} s')\n",
            "John has scored 98 marks\n",
            "6\n",
            "10\n",
            "(6, 10)\n",
            "as s\n"
          ]
        }
      ],
      "source": [
        "import re\n",
        "\n",
        "match = re.search(\"\\w{2} s\", a)\n",
        "print(match)\n",
        "print(match.re)\n",
        "print(match.string)\n",
        "print(match.start())\n",
        "print(match.end())\n",
        "print(match.span())\n",
        "print(match.group())"
      ]
    },
    {
      "cell_type": "code",
      "execution_count": null,
      "metadata": {
        "id": "2-Iu2sMlcVI-"
      },
      "outputs": [],
      "source": []
    },
    {
      "cell_type": "code",
      "execution_count": null,
      "metadata": {
        "id": "WFcWHW4icVLo"
      },
      "outputs": [],
      "source": []
    },
    {
      "cell_type": "code",
      "execution_count": null,
      "metadata": {
        "id": "Se09MHXicVOW"
      },
      "outputs": [],
      "source": []
    },
    {
      "cell_type": "code",
      "execution_count": null,
      "metadata": {
        "id": "i16Jaz6tcVQ7"
      },
      "outputs": [],
      "source": []
    },
    {
      "cell_type": "code",
      "execution_count": null,
      "metadata": {
        "id": "6HAWgAFmcVTn"
      },
      "outputs": [],
      "source": []
    },
    {
      "cell_type": "code",
      "execution_count": null,
      "metadata": {
        "id": "x3rjuX9RcVWP"
      },
      "outputs": [],
      "source": []
    }
  ],
  "metadata": {
    "colab": {
      "provenance": [],
      "authorship_tag": "ABX9TyPG3Z/eXr5yfFFLKJvFuApy",
      "include_colab_link": true
    },
    "kernelspec": {
      "display_name": "Python 3",
      "name": "python3"
    },
    "language_info": {
      "name": "python"
    }
  },
  "nbformat": 4,
  "nbformat_minor": 0
}