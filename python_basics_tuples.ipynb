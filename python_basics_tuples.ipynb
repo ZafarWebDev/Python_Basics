{
  "nbformat": 4,
  "nbformat_minor": 0,
  "metadata": {
    "colab": {
      "provenance": [],
      "authorship_tag": "ABX9TyMIrqtoRvchW4gYRuh8SoJ4",
      "include_colab_link": true
    },
    "kernelspec": {
      "name": "python3",
      "display_name": "Python 3"
    },
    "language_info": {
      "name": "python"
    }
  },
  "cells": [
    {
      "cell_type": "markdown",
      "metadata": {
        "id": "view-in-github",
        "colab_type": "text"
      },
      "source": [
        "<a href=\"https://colab.research.google.com/github/ZafarWebDev/Python_Basics/blob/main/python_basics_tuples.ipynb\" target=\"_parent\"><img src=\"https://colab.research.google.com/assets/colab-badge.svg\" alt=\"Open In Colab\"/></a>"
      ]
    },
    {
      "cell_type": "markdown",
      "source": [
        "# **Tuples in Python**"
      ],
      "metadata": {
        "id": "UAz6-2mHpNcD"
      }
    },
    {
      "cell_type": "code",
      "execution_count": null,
      "metadata": {
        "colab": {
          "base_uri": "https://localhost:8080/"
        },
        "id": "prWDaacme3jl",
        "outputId": "5421f1d1-4482-4845-8f44-f4b5edc19589"
      },
      "outputs": [
        {
          "output_type": "stream",
          "name": "stdout",
          "text": [
            "('apple', 'banana', 'cherry', 'apple')\n",
            "<class 'tuple'>\n"
          ]
        }
      ],
      "source": [
        "tup = (\"apple\", \"banana\", \"cherry\", \"apple\")\n",
        "print(tup)\n",
        "print(type(tup))"
      ]
    },
    {
      "cell_type": "markdown",
      "source": [
        "### **Tuples are same like lists but they are unmutuable (means ucchangeable)**\n",
        "\n",
        "1.   Are Ordered\n",
        "2.   Unmutable\n",
        "3.   Allow Duplicate Values\n",
        "\n"
      ],
      "metadata": {
        "id": "GGuok6nJfeM9"
      }
    },
    {
      "cell_type": "code",
      "source": [
        "print(tup[0])     # prints the item at index 0\n",
        "\n",
        "# changing the first item in tup with \"orange\"\n",
        "# tup[0] = \"orange\"  # raise an error if this cell be executed\n"
      ],
      "metadata": {
        "id": "cWf9qaPee-vb",
        "colab": {
          "base_uri": "https://localhost:8080/"
        },
        "outputId": "78a41554-a0ae-4e79-cdad-54b82a4043d5"
      },
      "execution_count": null,
      "outputs": [
        {
          "output_type": "stream",
          "name": "stdout",
          "text": [
            "apple\n"
          ]
        }
      ]
    },
    {
      "cell_type": "markdown",
      "source": [
        "## You can combine two tuples using the (+) operator\n"
      ],
      "metadata": {
        "id": "Iw6pxymBkSyi"
      }
    },
    {
      "cell_type": "code",
      "source": [
        "tup1 = (1,2,3)\n",
        "tup2 = (4,5,6)\n",
        "# tuples concatenation\n",
        "concat = tup1 + tup2\n",
        "print(concat)"
      ],
      "metadata": {
        "id": "toQZvQy8e-yM",
        "colab": {
          "base_uri": "https://localhost:8080/"
        },
        "outputId": "2f11a29d-806a-493a-8c3d-a0db6ccac536"
      },
      "execution_count": null,
      "outputs": [
        {
          "output_type": "stream",
          "name": "stdout",
          "text": [
            "(1, 2, 3, 4, 5, 6)\n"
          ]
        }
      ]
    },
    {
      "cell_type": "markdown",
      "source": [
        "## You can repeat a tuple multiple times using the ()* operator."
      ],
      "metadata": {
        "id": "GPdYIAlEk-Q6"
      }
    },
    {
      "cell_type": "code",
      "source": [
        "tup = (1,3)\n",
        "# tuple repetition\n",
        "print(tup * 3)"
      ],
      "metadata": {
        "id": "UqywITGwe-0w",
        "colab": {
          "base_uri": "https://localhost:8080/"
        },
        "outputId": "8a8c239b-b7a9-48bb-c330-abb52832ee41"
      },
      "execution_count": null,
      "outputs": [
        {
          "output_type": "stream",
          "name": "stdout",
          "text": [
            "(1, 3, 1, 3, 1, 3)\n"
          ]
        }
      ]
    },
    {
      "cell_type": "markdown",
      "source": [
        "## You can assign tuple elements to variables using unpacking."
      ],
      "metadata": {
        "id": "rJM8GNGNlQGO"
      }
    },
    {
      "cell_type": "code",
      "source": [
        "values = (10, 20, 30)\n",
        "a, b, c = values\n",
        "print(f\"a : {a}\\nb : {b}\\nc : {c}\")"
      ],
      "metadata": {
        "id": "iWUdArdxe-3g",
        "colab": {
          "base_uri": "https://localhost:8080/"
        },
        "outputId": "74570401-1749-4aa7-904e-3788089123f3"
      },
      "execution_count": null,
      "outputs": [
        {
          "output_type": "stream",
          "name": "stdout",
          "text": [
            "a : 10\n",
            "b : 20\n",
            "c : 30\n"
          ]
        }
      ]
    },
    {
      "cell_type": "markdown",
      "source": [
        "## **Challenge:**"
      ],
      "metadata": {
        "id": "w9-nrNozluyz"
      }
    },
    {
      "cell_type": "markdown",
      "source": [
        "Write a Python function that takes two tuples as input and returns a new tuple where:\n",
        "\n",
        "1. The first tuple is repeated twice\n",
        "2. The second tuple is concatenated at the end."
      ],
      "metadata": {
        "id": "iZY_zm0fl0As"
      }
    },
    {
      "cell_type": "code",
      "source": [
        "from typing_extensions import Concatenate\n",
        "tup1 = (1,2,3)\n",
        "tup2 = (4,5,6)\n",
        "\n",
        "# first tuple repetition twice\n",
        "print(\"======Tuple's Repetition=====\")\n",
        "print(tup1 * 2)\n",
        "\n",
        "# Concatenation of the second tuple\n",
        "print(\"=======CONCATENATION=======\")\n",
        "print(tup1 + tup2)"
      ],
      "metadata": {
        "id": "Kzv3Rj8Oe-5j",
        "colab": {
          "base_uri": "https://localhost:8080/"
        },
        "outputId": "58efd29c-08a8-47e0-fba5-d9b8e5bddf8a"
      },
      "execution_count": null,
      "outputs": [
        {
          "output_type": "stream",
          "name": "stdout",
          "text": [
            "======Tuple's Repition=====\n",
            "(1, 2, 3, 1, 2, 3)\n",
            "=======CONCATENATION=======\n",
            "(1, 2, 3, 4, 5, 6)\n"
          ]
        }
      ]
    },
    {
      "cell_type": "markdown",
      "source": [
        "## Tuples, like lists, allow indexing and slicing to access specific elements"
      ],
      "metadata": {
        "id": "um9WP1qfnEhu"
      }
    },
    {
      "cell_type": "code",
      "source": [
        "# indexing\n",
        "fruits = (\"apple\", \"banana\", \"mango\", \"apple\")\n",
        "print(fruits[2])    # third item of fruit's tuple\n",
        "print(fruits[-1])   # prints the last item of tuple"
      ],
      "metadata": {
        "id": "KS9LUTHMe-7_",
        "colab": {
          "base_uri": "https://localhost:8080/"
        },
        "outputId": "a53585ee-3b79-42b2-f210-588219bf8322"
      },
      "execution_count": null,
      "outputs": [
        {
          "output_type": "stream",
          "name": "stdout",
          "text": [
            "mango\n",
            "apple\n"
          ]
        }
      ]
    },
    {
      "cell_type": "code",
      "source": [
        "# slicing\n",
        "# You can extract portions of a tuple using slicing.\n",
        "print(fruits[0:2])    # prints first and second item (excludes third one)"
      ],
      "metadata": {
        "id": "c62qPP4ue--p",
        "colab": {
          "base_uri": "https://localhost:8080/"
        },
        "outputId": "daeeee98-d06e-424f-dbe2-abbdfdc97cf3"
      },
      "execution_count": null,
      "outputs": [
        {
          "output_type": "stream",
          "name": "stdout",
          "text": [
            "('apple', 'banana')\n"
          ]
        }
      ]
    },
    {
      "cell_type": "markdown",
      "source": [
        "## **Challenge:**"
      ],
      "metadata": {
        "id": "WnFgZO5EoAmv"
      }
    },
    {
      "cell_type": "markdown",
      "source": [
        "## Write a Python function that takes a tuple and two index positions, then returns a sliced portion of the tuple based on those indices."
      ],
      "metadata": {
        "id": "XsJnCeRQoHQt"
      }
    },
    {
      "cell_type": "code",
      "source": [
        "# example tuple\n",
        "values = (5,10,15,20,25,30,35)\n",
        "# index positions\n",
        "start_index = 2    # from third item\n",
        "end_index = 5      # to the sixth item (excluding it)\n",
        "\n",
        "# printing the sliced portion\n",
        "print(values[start_index:end_index])"
      ],
      "metadata": {
        "id": "QX7XqxCue_A-",
        "colab": {
          "base_uri": "https://localhost:8080/"
        },
        "outputId": "408703a9-6cdb-4a09-e4c5-b5bba8682f4e"
      },
      "execution_count": null,
      "outputs": [
        {
          "output_type": "stream",
          "name": "stdout",
          "text": [
            "(15, 20, 25)\n"
          ]
        }
      ]
    },
    {
      "cell_type": "markdown",
      "source": [
        "## Tuples are **immutable**, meaning their elements  **cannot be changed** once the tuple is created. This is a major distinction from lists, which are mutable and can be modified after creation"
      ],
      "metadata": {
        "id": "Vs_i6r_Mrmj4"
      }
    },
    {
      "cell_type": "code",
      "source": [
        "my_tup = (1,2,3)\n",
        "# Trying to change the first element\n",
        "# my_tup[0] = 100    # uncomment and execute the cell to see TypeError because tuples do not support item assignment."
      ],
      "metadata": {
        "id": "QK1I1o6Ye_Dk"
      },
      "execution_count": null,
      "outputs": []
    },
    {
      "cell_type": "markdown",
      "source": [
        "## **Challenge:**"
      ],
      "metadata": {
        "id": "BbLmFtV_sQD9"
      }
    },
    {
      "cell_type": "markdown",
      "source": [
        "Since tuples cannot be modified, how do you update them?\n",
        "### Write a Python function that takes a tuple and a new value, then returns a new tuple where the first element is replaced with that new value. You’ll need to use tuple unpacking and concatenation to achieve this."
      ],
      "metadata": {
        "id": "tBPWslNUsXSg"
      }
    },
    {
      "cell_type": "code",
      "source": [
        "values = (10, 20, 30, 40)\n",
        "new_value = 99\n",
        "\n",
        "# Creating a new tuple using concatenation\n",
        "new_tup = (new_value,) + values[1:]\n",
        "\n",
        "# Printing the updated tuple\n",
        "print(new_tup)  # Output: (99, 20, 30, 40)\n"
      ],
      "metadata": {
        "id": "9KniMGK4e_LJ",
        "colab": {
          "base_uri": "https://localhost:8080/"
        },
        "outputId": "87b324a1-047c-46d7-80a5-d50d7addeff3"
      },
      "execution_count": null,
      "outputs": [
        {
          "output_type": "stream",
          "name": "stdout",
          "text": [
            "(99, 20, 30, 40)\n"
          ]
        }
      ]
    },
    {
      "cell_type": "markdown",
      "source": [
        "# **Tuple Methods**"
      ],
      "metadata": {
        "id": "ZWCxp9aFpFxq"
      }
    },
    {
      "cell_type": "markdown",
      "source": [
        "## index()"
      ],
      "metadata": {
        "id": "SScR0kFhpWnC"
      }
    },
    {
      "cell_type": "markdown",
      "source": [
        "The  method returns the position of the first occurrence of a specified value in a tuple"
      ],
      "metadata": {
        "id": "APkDG5q3pdLD"
      }
    },
    {
      "cell_type": "code",
      "source": [
        "values = (5,10,15,20,25,30,35)\n",
        "\n",
        "# find the index of numer 20\n",
        "print(values.index(20))   # output will be 3"
      ],
      "metadata": {
        "id": "JnedP79ve_Ql",
        "colab": {
          "base_uri": "https://localhost:8080/"
        },
        "outputId": "341028c3-94e0-4a76-edf8-0826f82c1759"
      },
      "execution_count": null,
      "outputs": [
        {
          "output_type": "stream",
          "name": "stdout",
          "text": [
            "3\n"
          ]
        }
      ]
    },
    {
      "cell_type": "markdown",
      "source": [
        "## **Challenge:**"
      ],
      "metadata": {
        "id": "Ym-DvHr9pyvY"
      }
    },
    {
      "cell_type": "markdown",
      "source": [
        "Write a Python function that takes a tuple and a value, then returns the index of that value in the tuple. If the value is not in the tuple, the function should return ."
      ],
      "metadata": {
        "id": "MAsO4KyOp7YQ"
      }
    },
    {
      "cell_type": "code",
      "source": [
        "values = (3,6,9,12,15,18)\n",
        "search_value = 15\n",
        "\n",
        "# finding the index of given value\n",
        "try:\n",
        "    print(values.index(15))\n",
        "except ValueError:   # now it will return -1 if value not find\n",
        "    print(-1)"
      ],
      "metadata": {
        "id": "Xj4JaiLae_TR",
        "colab": {
          "base_uri": "https://localhost:8080/"
        },
        "outputId": "881438f3-5209-410a-cf1f-8802b78ccbb7"
      },
      "execution_count": null,
      "outputs": [
        {
          "output_type": "stream",
          "name": "stdout",
          "text": [
            "4\n"
          ]
        }
      ]
    },
    {
      "cell_type": "markdown",
      "source": [
        "## max() & min()"
      ],
      "metadata": {
        "id": "UsvZozrYrW-A"
      }
    },
    {
      "cell_type": "code",
      "source": [
        "numbers = (3, 6, 9, 12, 15, 18)\n",
        "\n",
        "# find the largest number in the tuple\n",
        "print(\"Largest number: \",max(numbers))\n",
        "\n",
        "# find the smallest number\n",
        "print(\"Smallest number: \",min(numbers))"
      ],
      "metadata": {
        "id": "5zbgUVhhe_Wc",
        "colab": {
          "base_uri": "https://localhost:8080/"
        },
        "outputId": "76d3536d-9c19-435e-d438-1492df3888c7"
      },
      "execution_count": null,
      "outputs": [
        {
          "output_type": "stream",
          "name": "stdout",
          "text": [
            "Largest number:  18\n",
            "Smallest number:  3\n"
          ]
        }
      ]
    },
    {
      "cell_type": "markdown",
      "source": [
        "## **Challenge:**"
      ],
      "metadata": {
        "id": "sRqhcV9br-7S"
      }
    },
    {
      "cell_type": "markdown",
      "source": [
        "Write a Python function that takes a tuple of numbers and returns both the smallest and largest values as a new tuple."
      ],
      "metadata": {
        "id": "Pyd_-KxnsBgm"
      }
    },
    {
      "cell_type": "code",
      "source": [
        "values = (42, 8, 15, 23, 4, 16)\n",
        "\n",
        "# craeting new tuple of the largest and the smallest value\n",
        "new_tup = (min(values), max(values))\n",
        "\n",
        "# printing the tuple\n",
        "print(new_tup)"
      ],
      "metadata": {
        "id": "tyvYBO4pe_Yr",
        "colab": {
          "base_uri": "https://localhost:8080/"
        },
        "outputId": "28592ff2-0edd-4c3c-87c2-620e43b3cf43"
      },
      "execution_count": null,
      "outputs": [
        {
          "output_type": "stream",
          "name": "stdout",
          "text": [
            "(4, 42)\n"
          ]
        }
      ]
    },
    {
      "cell_type": "markdown",
      "source": [
        "## **Using (in) to Check for an Elemen**"
      ],
      "metadata": {
        "id": "2pmT4wipstqn"
      }
    },
    {
      "cell_type": "markdown",
      "source": [
        "The (in) keyword allows you to check whether a specific value exists within a tuple."
      ],
      "metadata": {
        "id": "vSuG1WAnsy1o"
      }
    },
    {
      "cell_type": "code",
      "source": [
        "numbers = (10, 20, 30, 40, 50)\n",
        "\n",
        "print(30 in numbers)   # will return True\n",
        "print(35 in numbers)"
      ],
      "metadata": {
        "id": "qS7uMcHCe_be",
        "colab": {
          "base_uri": "https://localhost:8080/"
        },
        "outputId": "fb1bd3d3-d12b-4263-f267-9af47c4f22a1"
      },
      "execution_count": null,
      "outputs": [
        {
          "output_type": "stream",
          "name": "stdout",
          "text": [
            "True\n",
            "False\n"
          ]
        }
      ]
    },
    {
      "cell_type": "markdown",
      "source": [
        "## **Challenge:**"
      ],
      "metadata": {
        "id": "2q9ciXrjtGXQ"
      }
    },
    {
      "cell_type": "markdown",
      "source": [
        "Write a Python function that takes a tuple and a value as input. If the value exists in the tuple, return \"Found\"; otherwise, return \"Not Found\"."
      ],
      "metadata": {
        "id": "c6pd7zAHtK_W"
      }
    },
    {
      "cell_type": "code",
      "source": [
        "values = (5, 10, 15, 20, 25)\n",
        "search_value = 13\n",
        "\n",
        "# defining a function to check if value exist in the given tuple or nor\n",
        "def check_value(values, search_value):\n",
        "    if search_value in values:\n",
        "        print(\"Found!\")\n",
        "    else:\n",
        "        print(\"Not Found!\")\n",
        "\n",
        "# calling the function to check the value \"13\"\n",
        "check_value(values, search_value)"
      ],
      "metadata": {
        "id": "eYxNunJee_dm",
        "colab": {
          "base_uri": "https://localhost:8080/"
        },
        "outputId": "f8982998-fa6e-4389-a3ca-4352059b9a36"
      },
      "execution_count": null,
      "outputs": [
        {
          "output_type": "stream",
          "name": "stdout",
          "text": [
            "Not Found!\n"
          ]
        }
      ]
    },
    {
      "cell_type": "markdown",
      "source": [
        "## sorted()"
      ],
      "metadata": {
        "id": "7PXf3maauW4n"
      }
    },
    {
      "cell_type": "markdown",
      "source": [
        "The  function returns a list of sorted elements, so you'll need to convert it back into a tuple"
      ],
      "metadata": {
        "id": "goGBEPbguhDW"
      }
    },
    {
      "cell_type": "code",
      "source": [
        "numbers = (42, 8, 15, 23, 4, 16)\n",
        "\n",
        "# sorting the tuple\n",
        "sorted_tuple = tuple(sorted(numbers))\n",
        "sorted_desc = tuple(sorted(numbers, reverse=True))\n",
        "\n",
        "print(sorted_tuple)\n",
        "print(sorted_desc)"
      ],
      "metadata": {
        "id": "2JPtOUp3e_gJ",
        "colab": {
          "base_uri": "https://localhost:8080/"
        },
        "outputId": "20874240-d437-4eb8-b776-9b90dc900909"
      },
      "execution_count": null,
      "outputs": [
        {
          "output_type": "stream",
          "name": "stdout",
          "text": [
            "(4, 8, 15, 16, 23, 42)\n",
            "(42, 23, 16, 15, 8, 4)\n"
          ]
        }
      ]
    },
    {
      "cell_type": "markdown",
      "source": [
        "## **Challenge:**"
      ],
      "metadata": {
        "id": "y_Ux7hl12rrB"
      }
    },
    {
      "cell_type": "markdown",
      "source": [
        "Write a function that takes a tuple of numbers and returns two new tuples:\n",
        "1. One sorted in ascending order.\n",
        "2. One sorted in descending order"
      ],
      "metadata": {
        "id": "1ea6yQoH2wO8"
      }
    },
    {
      "cell_type": "code",
      "source": [
        "values = (29, 12, 45, 8, 32)\n",
        "\n",
        "# function for sorting the tuple\n",
        "def sort_tuple(values):\n",
        "    print(\"===Ascending Order====\")\n",
        "    print(tuple(sorted(values)))\n",
        "    print(\"\\n====Descending Order====\")\n",
        "    print(tuple(sorted(values, reverse=True)))\n",
        "\n",
        "# calling the function\n",
        "sort_tuple(values)"
      ],
      "metadata": {
        "id": "m3dYt3Wze_im",
        "colab": {
          "base_uri": "https://localhost:8080/"
        },
        "outputId": "b7bd4e05-4f31-45e0-8e51-16951b58e26d"
      },
      "execution_count": null,
      "outputs": [
        {
          "output_type": "stream",
          "name": "stdout",
          "text": [
            "===Ascending Order====\n",
            "(8, 12, 29, 32, 45)\n",
            "\n",
            "====Descending Order====\n",
            "(45, 32, 29, 12, 8)\n"
          ]
        }
      ]
    },
    {
      "cell_type": "markdown",
      "source": [
        "## **What Are Nested Tuples?**"
      ],
      "metadata": {
        "id": "9jPTwmee4Mtv"
      }
    },
    {
      "cell_type": "markdown",
      "source": [
        "A nested tuple is a tuple that contains other tuples as elements."
      ],
      "metadata": {
        "id": "NXP4D6qe4Pwm"
      }
    },
    {
      "cell_type": "code",
      "source": [
        "nested_tuple = ((1, 2, 3), (4, 5, 6), (7, 8, 9))\n",
        "print(nested_tuple[1])\n",
        "\n",
        "# accessing inner tuple item\n",
        "print(nested_tuple[1][2])    # accessing third item of second tuple"
      ],
      "metadata": {
        "id": "pmH8zS30e_lh",
        "colab": {
          "base_uri": "https://localhost:8080/"
        },
        "outputId": "d73c1319-a1a9-4634-8108-a9c0b918a037"
      },
      "execution_count": null,
      "outputs": [
        {
          "output_type": "stream",
          "name": "stdout",
          "text": [
            "(4, 5, 6)\n",
            "6\n"
          ]
        }
      ]
    },
    {
      "cell_type": "markdown",
      "source": [
        "## **Challenge:**"
      ],
      "metadata": {
        "id": "gjABFImA4u-l"
      }
    },
    {
      "cell_type": "markdown",
      "source": [
        "Write a Python function that takes a nested tuple containing student names and their scores, then returns the highest-scoring student's name."
      ],
      "metadata": {
        "id": "ZrR6FCiG40pB"
      }
    },
    {
      "cell_type": "code",
      "source": [
        "students = ((\"Ali\", 85), (\"Sara\", 90), (\"Ahmed\", 88), (\"Zara\", 95))\n",
        "\n",
        "#  function for finding the highest score of the students\n",
        "def highest_score(scores):\n",
        "    high_score = max(scores, key=lambda student: student[1])\n",
        "    print(high_score[0])    # Accessing just the name of the highest score student\n",
        "\n",
        "# Calling the function\n",
        "highest_score(students)"
      ],
      "metadata": {
        "id": "v3Vqt0L4e_oN",
        "colab": {
          "base_uri": "https://localhost:8080/"
        },
        "outputId": "5a1b2ee6-87bc-4275-ba2c-bec117da1bb5"
      },
      "execution_count": null,
      "outputs": [
        {
          "output_type": "stream",
          "name": "stdout",
          "text": [
            "Zara\n"
          ]
        }
      ]
    },
    {
      "cell_type": "markdown",
      "source": [
        "## **Challenge: Extract Data from a Nested Tuple**"
      ],
      "metadata": {
        "id": "rnDWXlIu7chO"
      }
    },
    {
      "cell_type": "markdown",
      "source": [
        "You have a nested tuple where each element contains a country name, its capital, and its population. Your task is to write a function that:\n",
        "1. Takes a country name as input.\n",
        "2. Returns its capital and population."
      ],
      "metadata": {
        "id": "r8W8zJz87hr9"
      }
    },
    {
      "cell_type": "code",
      "source": [
        "countries = (\n",
        "    (\"Pakistan\", \"Islamabad\", 231000000),\n",
        "    (\"USA\", \"Washington, D.C.\", 331000000),\n",
        "    (\"Japan\", \"Tokyo\", 125000000),\n",
        "    (\"France\", \"Paris\", 68000000)\n",
        ")\n",
        "\n",
        "# defining function to extract data from the tuple\n",
        "def extract_data(country_name):\n",
        "    if country_name == countries[0][0]:\n",
        "        print(countries[0][1:])\n",
        "    elif country_name == countries[1][0]:\n",
        "        print(countries[1][1:])\n",
        "    elif country_name == countries[2][0]:\n",
        "        print(countries[2][1:])\n",
        "    elif country_name == countries[3][0]:\n",
        "        print(countries[3][1:])\n",
        "    else:\n",
        "        print(\"Item doesn't exist.\")\n",
        "\n",
        "# Calling the function\n",
        "extract_data(\"Japan\")"
      ],
      "metadata": {
        "id": "tNsfXqDBe_tl",
        "colab": {
          "base_uri": "https://localhost:8080/"
        },
        "outputId": "0c94efc3-8fad-47d9-e5bd-02d16fa46a07"
      },
      "execution_count": null,
      "outputs": [
        {
          "output_type": "stream",
          "name": "stdout",
          "text": [
            "('Tokyo', 125000000)\n"
          ]
        }
      ]
    },
    {
      "cell_type": "markdown",
      "source": [
        "### **Optimized Approach:**"
      ],
      "metadata": {
        "id": "MRh42kwOOvCt"
      }
    },
    {
      "cell_type": "markdown",
      "source": [
        "Instead of manually checking each tuple, you can use a loop to make the function more scalable for larger datasets."
      ],
      "metadata": {
        "id": "PoFzkzSXOxEU"
      }
    },
    {
      "cell_type": "code",
      "source": [
        "def extract_data2(country_name):\n",
        "    for country in countries:\n",
        "        if country[0] == country_name:\n",
        "            return country[1:]    # it will return capital and population\n",
        "    return \"Item doesn't exist.\"\n",
        "\n",
        "# Calling the function\n",
        "\n",
        "print(extract_data2(\"France\"))\n",
        "print(extract_data2(\"Germany\"))"
      ],
      "metadata": {
        "id": "Y2F9LUIb-R4D",
        "colab": {
          "base_uri": "https://localhost:8080/"
        },
        "outputId": "08533a32-c1e9-46de-a9cd-62375f28f656"
      },
      "execution_count": null,
      "outputs": [
        {
          "output_type": "stream",
          "name": "stdout",
          "text": [
            "('Paris', 68000000)\n",
            "Item doesn't exist.\n"
          ]
        }
      ]
    },
    {
      "cell_type": "markdown",
      "source": [
        "## **Advanced Nested Tuple Challenge: Grouping Data Dynamically**"
      ],
      "metadata": {
        "id": "njnQoB5jSkzt"
      }
    },
    {
      "cell_type": "markdown",
      "source": [
        "You have a nested tuple containing students' names, scores, and subjects. Your task is to write a function that:\n",
        "1. Groups students based on their subjects.\n",
        "2. Returns a dictionary where the keys are subjects and the values are tuples of students and their scores."
      ],
      "metadata": {
        "id": "e1Ufe26vSuZs"
      }
    },
    {
      "cell_type": "code",
      "source": [
        "students = (\n",
        "    (\"Ali\", 85, \"Math\"),\n",
        "    (\"Sara\", 90, \"Science\"),\n",
        "    (\"Ahmed\", 88, \"Math\"),\n",
        "    (\"Zara\", 95, \"English\"),\n",
        "    (\"Bilal\", 80, \"Science\"),\n",
        "    (\"Mina\", 78, \"English\")\n",
        ")\n",
        "\n",
        "# defining function for grouping students based on their subjects\n",
        "def students_grouping(data):\n",
        "    students_group = {}\n",
        "    for student in data:\n",
        "        name, score, subject = student\n",
        "        if subject in students_group:\n",
        "            students_group[subject] += ((name, score),)\n",
        "        else:\n",
        "            students_group[subject] = ((name, score),)\n",
        "    return students_group\n",
        "\n",
        "print(students_grouping(students))\n"
      ],
      "metadata": {
        "id": "SULML_vQe_wU",
        "colab": {
          "base_uri": "https://localhost:8080/"
        },
        "outputId": "6ef64cd8-8742-42a2-a42f-cc5e0f0e907d"
      },
      "execution_count": null,
      "outputs": [
        {
          "output_type": "stream",
          "name": "stdout",
          "text": [
            "{'Math': (('Ali', 85), ('Ahmed', 88)), 'Science': (('Sara', 90), ('Bilal', 80)), 'English': (('Zara', 95), ('Mina', 78))}\n"
          ]
        }
      ]
    },
    {
      "cell_type": "markdown",
      "source": [
        "## We want to group items based on a category. Instead of students and subjects, let's start with something simpler—grouping fruits based on their colors."
      ],
      "metadata": {
        "id": "8H0twaeeBlHr"
      }
    },
    {
      "cell_type": "code",
      "source": [
        "fruits = (\n",
        "    (\"Apple\", \"Red\"),\n",
        "    (\"Banana\", \"Yellow\"),\n",
        "    (\"Cherry\", \"Red\"),\n",
        "    (\"Grapes\", \"Purple\"),\n",
        "    (\"Lemon\", \"Yellow\")\n",
        ")\n",
        "\n",
        "grouped_fruits = {}\n",
        "for fruit, color in fruits:\n",
        "    if color in grouped_fruits:\n",
        "        grouped_fruits[color] += (fruit,)\n",
        "    else:\n",
        "        grouped_fruits[color]  = (fruit,)\n",
        "\n",
        "print(grouped_fruits)"
      ],
      "metadata": {
        "id": "92ysKzOie_zc",
        "colab": {
          "base_uri": "https://localhost:8080/"
        },
        "outputId": "5335ec3b-f578-44e4-d474-3d9470762d12"
      },
      "execution_count": null,
      "outputs": [
        {
          "output_type": "stream",
          "name": "stdout",
          "text": [
            "{'Red': ('Apple', 'Cherry'), 'Yellow': ('Banana', 'Lemon'), 'Purple': ('Grapes',)}\n"
          ]
        }
      ]
    },
    {
      "cell_type": "markdown",
      "source": [
        "## **New Challenge: Find the Most Frequent Element in a Tuple**"
      ],
      "metadata": {
        "id": "pKGDNb_qC_dK"
      }
    },
    {
      "cell_type": "markdown",
      "source": [
        "You have a tuple with repeated numbers, and your task is to write a function that:\n",
        "- Identifies the most frequent element.\n",
        "- Returns both the element and its count."
      ],
      "metadata": {
        "id": "RWkd4ro4DDeS"
      }
    },
    {
      "cell_type": "code",
      "source": [
        "numbers = (4, 2, 8, 4, 6, 4, 8, 2, 4, 8, 8, 8)\n",
        "\n",
        "count = {}\n",
        "for num in numbers:\n",
        "    count[num] = count.get(num, 0) + 1\n",
        "\n",
        "most_frequent = max(count, key=count.get)\n",
        "print(most_frequent, count[most_frequent])"
      ],
      "metadata": {
        "id": "p79Yh0H7e_2N",
        "colab": {
          "base_uri": "https://localhost:8080/"
        },
        "outputId": "d96259bf-1b28-4b46-a634-12373130e4b4"
      },
      "execution_count": null,
      "outputs": [
        {
          "output_type": "stream",
          "name": "stdout",
          "text": [
            "8\n"
          ]
        }
      ]
    },
    {
      "cell_type": "code",
      "source": [],
      "metadata": {
        "id": "PrZfJwVqe_8O"
      },
      "execution_count": null,
      "outputs": []
    },
    {
      "cell_type": "code",
      "source": [],
      "metadata": {
        "id": "lcCKTbbHe_-7"
      },
      "execution_count": null,
      "outputs": []
    },
    {
      "cell_type": "code",
      "source": [],
      "metadata": {
        "id": "h2bk0nysfABl"
      },
      "execution_count": null,
      "outputs": []
    },
    {
      "cell_type": "code",
      "source": [],
      "metadata": {
        "id": "9RPLM71xfAD2"
      },
      "execution_count": null,
      "outputs": []
    },
    {
      "cell_type": "code",
      "source": [],
      "metadata": {
        "id": "iBCj1scJfAGi"
      },
      "execution_count": null,
      "outputs": []
    },
    {
      "cell_type": "code",
      "source": [],
      "metadata": {
        "id": "g0neQEwyfAJN"
      },
      "execution_count": null,
      "outputs": []
    }
  ]
}